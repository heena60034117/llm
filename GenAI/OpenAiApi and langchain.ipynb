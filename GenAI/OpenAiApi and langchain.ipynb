{
 "cells": [
  {
   "cell_type": "code",
   "execution_count": 1,
   "id": "dad1520a-6364-42c0-b49b-26343040d7d4",
   "metadata": {},
   "outputs": [],
   "source": [
    "import openai"
   ]
  },
  {
   "cell_type": "code",
   "execution_count": 2,
   "id": "16f380fd-1241-4cda-ba88-68eb3959bab4",
   "metadata": {},
   "outputs": [],
   "source": [
    "myKey = \"OpenAP-KEYS\""
   ]
  },
  {
   "cell_type": "code",
   "execution_count": 3,
   "id": "3aff0341-2386-409e-bdb5-7c6d4eb7c835",
   "metadata": {},
   "outputs": [],
   "source": [
    "openai.api_key = myKey"
   ]
  },
  {
   "cell_type": "code",
   "execution_count": 4,
   "id": "38eb7ce4-f0c7-406f-a58a-2204865ed8c9",
   "metadata": {},
   "outputs": [],
   "source": [
    "all_models = openai.models.list()"
   ]
  },
  {
   "cell_type": "code",
   "execution_count": 5,
   "id": "5e9d5407-4500-4027-94c5-52e77ecd280d",
   "metadata": {},
   "outputs": [
    {
     "data": {
      "text/plain": [
       "[Model(id='dall-e-3', created=1698785189, object='model', owned_by='system'),\n",
       " Model(id='whisper-1', created=1677532384, object='model', owned_by='openai-internal'),\n",
       " Model(id='davinci-002', created=1692634301, object='model', owned_by='system'),\n",
       " Model(id='dall-e-2', created=1698798177, object='model', owned_by='system'),\n",
       " Model(id='gpt-3.5-turbo-16k', created=1683758102, object='model', owned_by='openai-internal'),\n",
       " Model(id='tts-1-hd-1106', created=1699053533, object='model', owned_by='system'),\n",
       " Model(id='tts-1-hd', created=1699046015, object='model', owned_by='system'),\n",
       " Model(id='gpt-4', created=1687882411, object='model', owned_by='openai'),\n",
       " Model(id='gpt-4-0613', created=1686588896, object='model', owned_by='openai'),\n",
       " Model(id='gpt-3.5-turbo-1106', created=1698959748, object='model', owned_by='system'),\n",
       " Model(id='gpt-3.5-turbo-instruct-0914', created=1694122472, object='model', owned_by='system'),\n",
       " Model(id='gpt-3.5-turbo-instruct', created=1692901427, object='model', owned_by='system'),\n",
       " Model(id='tts-1', created=1681940951, object='model', owned_by='openai-internal'),\n",
       " Model(id='gpt-4-turbo', created=1712361441, object='model', owned_by='system'),\n",
       " Model(id='gpt-3.5-turbo', created=1677610602, object='model', owned_by='openai'),\n",
       " Model(id='gpt-3.5-turbo-0301', created=1677649963, object='model', owned_by='openai'),\n",
       " Model(id='babbage-002', created=1692634615, object='model', owned_by='system'),\n",
       " Model(id='gpt-4-turbo-2024-04-09', created=1712601677, object='model', owned_by='system'),\n",
       " Model(id='gpt-4-0125-preview', created=1706037612, object='model', owned_by='system'),\n",
       " Model(id='tts-1-1106', created=1699053241, object='model', owned_by='system'),\n",
       " Model(id='gpt-3.5-turbo-0125', created=1706048358, object='model', owned_by='system'),\n",
       " Model(id='gpt-4-turbo-preview', created=1706037777, object='model', owned_by='system'),\n",
       " Model(id='text-embedding-3-large', created=1705953180, object='model', owned_by='system'),\n",
       " Model(id='text-embedding-3-small', created=1705948997, object='model', owned_by='system'),\n",
       " Model(id='gpt-3.5-turbo-0613', created=1686587434, object='model', owned_by='openai'),\n",
       " Model(id='text-embedding-ada-002', created=1671217299, object='model', owned_by='openai-internal'),\n",
       " Model(id='gpt-4-1106-vision-preview', created=1711473033, object='model', owned_by='system'),\n",
       " Model(id='gpt-4-vision-preview', created=1698894917, object='model', owned_by='system'),\n",
       " Model(id='gpt-3.5-turbo-16k-0613', created=1685474247, object='model', owned_by='openai'),\n",
       " Model(id='gpt-4-1106-preview', created=1698957206, object='model', owned_by='system')]"
      ]
     },
     "execution_count": 5,
     "metadata": {},
     "output_type": "execute_result"
    }
   ],
   "source": [
    "list(all_models)"
   ]
  },
  {
   "cell_type": "code",
   "execution_count": 6,
   "id": "b48626e7-0464-4bdd-bbec-e877028cecc2",
   "metadata": {},
   "outputs": [
    {
     "data": {
      "text/html": [
       "<div>\n",
       "<style scoped>\n",
       "    .dataframe tbody tr th:only-of-type {\n",
       "        vertical-align: middle;\n",
       "    }\n",
       "\n",
       "    .dataframe tbody tr th {\n",
       "        vertical-align: top;\n",
       "    }\n",
       "\n",
       "    .dataframe thead th {\n",
       "        text-align: right;\n",
       "    }\n",
       "</style>\n",
       "<table border=\"1\" class=\"dataframe\">\n",
       "  <thead>\n",
       "    <tr style=\"text-align: right;\">\n",
       "      <th></th>\n",
       "      <th>id</th>\n",
       "      <th>created</th>\n",
       "      <th>object</th>\n",
       "      <th>owned_by</th>\n",
       "    </tr>\n",
       "  </thead>\n",
       "  <tbody>\n",
       "    <tr>\n",
       "      <th>0</th>\n",
       "      <td>(id, dall-e-3)</td>\n",
       "      <td>(created, 1698785189)</td>\n",
       "      <td>(object, model)</td>\n",
       "      <td>(owned_by, system)</td>\n",
       "    </tr>\n",
       "    <tr>\n",
       "      <th>1</th>\n",
       "      <td>(id, whisper-1)</td>\n",
       "      <td>(created, 1677532384)</td>\n",
       "      <td>(object, model)</td>\n",
       "      <td>(owned_by, openai-internal)</td>\n",
       "    </tr>\n",
       "    <tr>\n",
       "      <th>2</th>\n",
       "      <td>(id, davinci-002)</td>\n",
       "      <td>(created, 1692634301)</td>\n",
       "      <td>(object, model)</td>\n",
       "      <td>(owned_by, system)</td>\n",
       "    </tr>\n",
       "    <tr>\n",
       "      <th>3</th>\n",
       "      <td>(id, dall-e-2)</td>\n",
       "      <td>(created, 1698798177)</td>\n",
       "      <td>(object, model)</td>\n",
       "      <td>(owned_by, system)</td>\n",
       "    </tr>\n",
       "    <tr>\n",
       "      <th>4</th>\n",
       "      <td>(id, gpt-3.5-turbo-16k)</td>\n",
       "      <td>(created, 1683758102)</td>\n",
       "      <td>(object, model)</td>\n",
       "      <td>(owned_by, openai-internal)</td>\n",
       "    </tr>\n",
       "    <tr>\n",
       "      <th>5</th>\n",
       "      <td>(id, tts-1-hd-1106)</td>\n",
       "      <td>(created, 1699053533)</td>\n",
       "      <td>(object, model)</td>\n",
       "      <td>(owned_by, system)</td>\n",
       "    </tr>\n",
       "    <tr>\n",
       "      <th>6</th>\n",
       "      <td>(id, tts-1-hd)</td>\n",
       "      <td>(created, 1699046015)</td>\n",
       "      <td>(object, model)</td>\n",
       "      <td>(owned_by, system)</td>\n",
       "    </tr>\n",
       "    <tr>\n",
       "      <th>7</th>\n",
       "      <td>(id, gpt-4)</td>\n",
       "      <td>(created, 1687882411)</td>\n",
       "      <td>(object, model)</td>\n",
       "      <td>(owned_by, openai)</td>\n",
       "    </tr>\n",
       "    <tr>\n",
       "      <th>8</th>\n",
       "      <td>(id, gpt-4-0613)</td>\n",
       "      <td>(created, 1686588896)</td>\n",
       "      <td>(object, model)</td>\n",
       "      <td>(owned_by, openai)</td>\n",
       "    </tr>\n",
       "    <tr>\n",
       "      <th>9</th>\n",
       "      <td>(id, gpt-3.5-turbo-1106)</td>\n",
       "      <td>(created, 1698959748)</td>\n",
       "      <td>(object, model)</td>\n",
       "      <td>(owned_by, system)</td>\n",
       "    </tr>\n",
       "    <tr>\n",
       "      <th>10</th>\n",
       "      <td>(id, gpt-3.5-turbo-instruct-0914)</td>\n",
       "      <td>(created, 1694122472)</td>\n",
       "      <td>(object, model)</td>\n",
       "      <td>(owned_by, system)</td>\n",
       "    </tr>\n",
       "    <tr>\n",
       "      <th>11</th>\n",
       "      <td>(id, gpt-3.5-turbo-instruct)</td>\n",
       "      <td>(created, 1692901427)</td>\n",
       "      <td>(object, model)</td>\n",
       "      <td>(owned_by, system)</td>\n",
       "    </tr>\n",
       "    <tr>\n",
       "      <th>12</th>\n",
       "      <td>(id, tts-1)</td>\n",
       "      <td>(created, 1681940951)</td>\n",
       "      <td>(object, model)</td>\n",
       "      <td>(owned_by, openai-internal)</td>\n",
       "    </tr>\n",
       "    <tr>\n",
       "      <th>13</th>\n",
       "      <td>(id, gpt-4-turbo)</td>\n",
       "      <td>(created, 1712361441)</td>\n",
       "      <td>(object, model)</td>\n",
       "      <td>(owned_by, system)</td>\n",
       "    </tr>\n",
       "    <tr>\n",
       "      <th>14</th>\n",
       "      <td>(id, gpt-3.5-turbo)</td>\n",
       "      <td>(created, 1677610602)</td>\n",
       "      <td>(object, model)</td>\n",
       "      <td>(owned_by, openai)</td>\n",
       "    </tr>\n",
       "    <tr>\n",
       "      <th>15</th>\n",
       "      <td>(id, gpt-3.5-turbo-0301)</td>\n",
       "      <td>(created, 1677649963)</td>\n",
       "      <td>(object, model)</td>\n",
       "      <td>(owned_by, openai)</td>\n",
       "    </tr>\n",
       "    <tr>\n",
       "      <th>16</th>\n",
       "      <td>(id, babbage-002)</td>\n",
       "      <td>(created, 1692634615)</td>\n",
       "      <td>(object, model)</td>\n",
       "      <td>(owned_by, system)</td>\n",
       "    </tr>\n",
       "    <tr>\n",
       "      <th>17</th>\n",
       "      <td>(id, gpt-4-turbo-2024-04-09)</td>\n",
       "      <td>(created, 1712601677)</td>\n",
       "      <td>(object, model)</td>\n",
       "      <td>(owned_by, system)</td>\n",
       "    </tr>\n",
       "    <tr>\n",
       "      <th>18</th>\n",
       "      <td>(id, gpt-4-0125-preview)</td>\n",
       "      <td>(created, 1706037612)</td>\n",
       "      <td>(object, model)</td>\n",
       "      <td>(owned_by, system)</td>\n",
       "    </tr>\n",
       "    <tr>\n",
       "      <th>19</th>\n",
       "      <td>(id, tts-1-1106)</td>\n",
       "      <td>(created, 1699053241)</td>\n",
       "      <td>(object, model)</td>\n",
       "      <td>(owned_by, system)</td>\n",
       "    </tr>\n",
       "    <tr>\n",
       "      <th>20</th>\n",
       "      <td>(id, gpt-3.5-turbo-0125)</td>\n",
       "      <td>(created, 1706048358)</td>\n",
       "      <td>(object, model)</td>\n",
       "      <td>(owned_by, system)</td>\n",
       "    </tr>\n",
       "    <tr>\n",
       "      <th>21</th>\n",
       "      <td>(id, gpt-4-turbo-preview)</td>\n",
       "      <td>(created, 1706037777)</td>\n",
       "      <td>(object, model)</td>\n",
       "      <td>(owned_by, system)</td>\n",
       "    </tr>\n",
       "    <tr>\n",
       "      <th>22</th>\n",
       "      <td>(id, text-embedding-3-large)</td>\n",
       "      <td>(created, 1705953180)</td>\n",
       "      <td>(object, model)</td>\n",
       "      <td>(owned_by, system)</td>\n",
       "    </tr>\n",
       "    <tr>\n",
       "      <th>23</th>\n",
       "      <td>(id, text-embedding-3-small)</td>\n",
       "      <td>(created, 1705948997)</td>\n",
       "      <td>(object, model)</td>\n",
       "      <td>(owned_by, system)</td>\n",
       "    </tr>\n",
       "    <tr>\n",
       "      <th>24</th>\n",
       "      <td>(id, gpt-3.5-turbo-0613)</td>\n",
       "      <td>(created, 1686587434)</td>\n",
       "      <td>(object, model)</td>\n",
       "      <td>(owned_by, openai)</td>\n",
       "    </tr>\n",
       "    <tr>\n",
       "      <th>25</th>\n",
       "      <td>(id, text-embedding-ada-002)</td>\n",
       "      <td>(created, 1671217299)</td>\n",
       "      <td>(object, model)</td>\n",
       "      <td>(owned_by, openai-internal)</td>\n",
       "    </tr>\n",
       "    <tr>\n",
       "      <th>26</th>\n",
       "      <td>(id, gpt-4-1106-vision-preview)</td>\n",
       "      <td>(created, 1711473033)</td>\n",
       "      <td>(object, model)</td>\n",
       "      <td>(owned_by, system)</td>\n",
       "    </tr>\n",
       "    <tr>\n",
       "      <th>27</th>\n",
       "      <td>(id, gpt-4-vision-preview)</td>\n",
       "      <td>(created, 1698894917)</td>\n",
       "      <td>(object, model)</td>\n",
       "      <td>(owned_by, system)</td>\n",
       "    </tr>\n",
       "    <tr>\n",
       "      <th>28</th>\n",
       "      <td>(id, gpt-3.5-turbo-16k-0613)</td>\n",
       "      <td>(created, 1685474247)</td>\n",
       "      <td>(object, model)</td>\n",
       "      <td>(owned_by, openai)</td>\n",
       "    </tr>\n",
       "    <tr>\n",
       "      <th>29</th>\n",
       "      <td>(id, gpt-4-1106-preview)</td>\n",
       "      <td>(created, 1698957206)</td>\n",
       "      <td>(object, model)</td>\n",
       "      <td>(owned_by, system)</td>\n",
       "    </tr>\n",
       "  </tbody>\n",
       "</table>\n",
       "</div>"
      ],
      "text/plain": [
       "                                   id                created           object  \\\n",
       "0                      (id, dall-e-3)  (created, 1698785189)  (object, model)   \n",
       "1                     (id, whisper-1)  (created, 1677532384)  (object, model)   \n",
       "2                   (id, davinci-002)  (created, 1692634301)  (object, model)   \n",
       "3                      (id, dall-e-2)  (created, 1698798177)  (object, model)   \n",
       "4             (id, gpt-3.5-turbo-16k)  (created, 1683758102)  (object, model)   \n",
       "5                 (id, tts-1-hd-1106)  (created, 1699053533)  (object, model)   \n",
       "6                      (id, tts-1-hd)  (created, 1699046015)  (object, model)   \n",
       "7                         (id, gpt-4)  (created, 1687882411)  (object, model)   \n",
       "8                    (id, gpt-4-0613)  (created, 1686588896)  (object, model)   \n",
       "9            (id, gpt-3.5-turbo-1106)  (created, 1698959748)  (object, model)   \n",
       "10  (id, gpt-3.5-turbo-instruct-0914)  (created, 1694122472)  (object, model)   \n",
       "11       (id, gpt-3.5-turbo-instruct)  (created, 1692901427)  (object, model)   \n",
       "12                        (id, tts-1)  (created, 1681940951)  (object, model)   \n",
       "13                  (id, gpt-4-turbo)  (created, 1712361441)  (object, model)   \n",
       "14                (id, gpt-3.5-turbo)  (created, 1677610602)  (object, model)   \n",
       "15           (id, gpt-3.5-turbo-0301)  (created, 1677649963)  (object, model)   \n",
       "16                  (id, babbage-002)  (created, 1692634615)  (object, model)   \n",
       "17       (id, gpt-4-turbo-2024-04-09)  (created, 1712601677)  (object, model)   \n",
       "18           (id, gpt-4-0125-preview)  (created, 1706037612)  (object, model)   \n",
       "19                   (id, tts-1-1106)  (created, 1699053241)  (object, model)   \n",
       "20           (id, gpt-3.5-turbo-0125)  (created, 1706048358)  (object, model)   \n",
       "21          (id, gpt-4-turbo-preview)  (created, 1706037777)  (object, model)   \n",
       "22       (id, text-embedding-3-large)  (created, 1705953180)  (object, model)   \n",
       "23       (id, text-embedding-3-small)  (created, 1705948997)  (object, model)   \n",
       "24           (id, gpt-3.5-turbo-0613)  (created, 1686587434)  (object, model)   \n",
       "25       (id, text-embedding-ada-002)  (created, 1671217299)  (object, model)   \n",
       "26    (id, gpt-4-1106-vision-preview)  (created, 1711473033)  (object, model)   \n",
       "27         (id, gpt-4-vision-preview)  (created, 1698894917)  (object, model)   \n",
       "28       (id, gpt-3.5-turbo-16k-0613)  (created, 1685474247)  (object, model)   \n",
       "29           (id, gpt-4-1106-preview)  (created, 1698957206)  (object, model)   \n",
       "\n",
       "                       owned_by  \n",
       "0            (owned_by, system)  \n",
       "1   (owned_by, openai-internal)  \n",
       "2            (owned_by, system)  \n",
       "3            (owned_by, system)  \n",
       "4   (owned_by, openai-internal)  \n",
       "5            (owned_by, system)  \n",
       "6            (owned_by, system)  \n",
       "7            (owned_by, openai)  \n",
       "8            (owned_by, openai)  \n",
       "9            (owned_by, system)  \n",
       "10           (owned_by, system)  \n",
       "11           (owned_by, system)  \n",
       "12  (owned_by, openai-internal)  \n",
       "13           (owned_by, system)  \n",
       "14           (owned_by, openai)  \n",
       "15           (owned_by, openai)  \n",
       "16           (owned_by, system)  \n",
       "17           (owned_by, system)  \n",
       "18           (owned_by, system)  \n",
       "19           (owned_by, system)  \n",
       "20           (owned_by, system)  \n",
       "21           (owned_by, system)  \n",
       "22           (owned_by, system)  \n",
       "23           (owned_by, system)  \n",
       "24           (owned_by, openai)  \n",
       "25  (owned_by, openai-internal)  \n",
       "26           (owned_by, system)  \n",
       "27           (owned_by, system)  \n",
       "28           (owned_by, openai)  \n",
       "29           (owned_by, system)  "
      ]
     },
     "execution_count": 6,
     "metadata": {},
     "output_type": "execute_result"
    }
   ],
   "source": [
    "import pandas as pd\n",
    "pd.DataFrame(list(all_models), columns=[\"id\",\"created\",\"object\",\"owned_by\"])"
   ]
  },
  {
   "cell_type": "code",
   "execution_count": 7,
   "id": "a6fc3660-66db-4ab0-9c73-71fd0a6b0e69",
   "metadata": {},
   "outputs": [],
   "source": [
    "import langchain"
   ]
  },
  {
   "cell_type": "code",
   "execution_count": 17,
   "id": "96a8b632-d78a-4593-af18-485c19c934e6",
   "metadata": {},
   "outputs": [],
   "source": [
    "from openai import OpenAI\n",
    "client = OpenAI(api_key=myKey)"
   ]
  },
  {
   "cell_type": "code",
   "execution_count": null,
   "id": "74372ffc-c8b8-4760-9848-b15285d5fd12",
   "metadata": {},
   "outputs": [],
   "source": [
    "response = client.chat.completions.create(\n",
    "  model=\"gpt-3.5-turbo\",\n",
    "  messages=[\n",
    "    {\n",
    "      \"role\": \"system\",\n",
    "      \"content\": \"A helpful assistant\"\n",
    "    },\n",
    "    {\n",
    "      \"role\": \"user\",\n",
    "      \"content\": \"How I can make money with minimal efforts\"\n",
    "    },\n",
    "    {\n",
    "      \"role\": \"assistant\",\n",
    "      \"content\": \"Making money with minimal effort can be challenging and may not always be sustainable in the long run. However, here are a few ideas that you could consider:\\n\\n1. **Passive Income Streams:** Invest in dividend-paying stocks, rental properties, or peer-to-peer lending platforms. These can generate regular income with minimal effort once set up.\\n\\n2. **Online Surveys and Market Research:** Participate in online surveys or market research studies in your free time. Companies are willing to pay for your opinions.\\n\\n3. **Affiliate Marketing:** Promote products or services on your website, blog, or social media platforms and earn a commission for every sale or lead generated through your unique referral link.\\n\\n4. **Print on Demand or Dropshipping:** Use platforms like Printful or Shopify to sell custom-designed merchandise or products without the need to handle inventory or shipping.\\n\\n5. **Digital Products:** Create and sell digital products like e-books, online courses, or stock photography. Once created, these products can generate income without much ongoing effort.\\n\\nRemember that while these options may require minimal effort once set up, they may still require some initial time and resources to establish. It's essential to research and choose options that align with your interests and skills for long-term success.\"\n",
    "    }\n",
    "  ],\n",
    "  temperature=1,\n",
    "  max_tokens=256,\n",
    "  top_p=1,\n",
    "  frequency_penalty=0,\n",
    "  presence_penalty=0\n",
    ")\n",
    "response"
   ]
  },
  {
   "cell_type": "code",
   "execution_count": 16,
   "id": "1fedf4a7-4962-4610-a04d-e6e4c2ed067a",
   "metadata": {},
   "outputs": [
    {
     "data": {
      "text/plain": [
       "'Would you like more ideas on how to make money with minimal effort?'"
      ]
     },
     "execution_count": 16,
     "metadata": {},
     "output_type": "execute_result"
    }
   ],
   "source": [
    "response.choices[0].message.content"
   ]
  },
  {
   "cell_type": "code",
   "execution_count": 25,
   "id": "599fe2a4-22a9-4098-b8e4-2e791ad4f705",
   "metadata": {},
   "outputs": [],
   "source": [
    "response = client.chat.completions.create(\n",
    "    model=\"gpt-3.5-turbo\",\n",
    "    messages = [\n",
    "        {\n",
    "            \"role\":\"user\",\n",
    "            \"content\":\"How to make bots?\"\n",
    "        }\n",
    "    ],\n",
    "    max_tokens = 150,\n",
    "    n=2\n",
    ")"
   ]
  },
  {
   "cell_type": "code",
   "execution_count": 28,
   "id": "6816adf0-9fe3-433a-bc65-97132d3be78e",
   "metadata": {},
   "outputs": [
    {
     "data": {
      "text/plain": [
       "Choice(finish_reason='length', index=0, logprobs=None, message=ChatCompletionMessage(content='There are many different ways to make bots, depending on what platform or purpose you are looking to create a bot for. Here are some general steps you can follow to create a bot:\\n\\n1. Choose a platform: Decide where you want your bot to operate, such as on a messaging platform like Facebook Messenger or Slack, or on a website.\\n\\n2. Decide on the purpose of your bot: Determine what you want your bot to do and what problem you want it to solve. This will help you determine the features and functionality your bot will need.\\n\\n3. Choose a programming language: Decide on a programming language that you are comfortable with or want to learn. Popular languages for creating bots include Python, JavaScript, and Java.\\n\\n4. Develop the bot', role='assistant', function_call=None, tool_calls=None))"
      ]
     },
     "execution_count": 28,
     "metadata": {},
     "output_type": "execute_result"
    }
   ],
   "source": [
    "response.choices[0]"
   ]
  },
  {
   "cell_type": "code",
   "execution_count": 29,
   "id": "b17c5735-8b82-42d1-9e49-8ecba50f49be",
   "metadata": {},
   "outputs": [
    {
     "data": {
      "text/plain": [
       "Choice(finish_reason='length', index=1, logprobs=None, message=ChatCompletionMessage(content='There are several ways to create bots, depending on the type of bot you want to build and the platform you want it to operate on. Here are some common methods for creating bots:\\n\\n1. Using bot development platforms: There are various bot development platforms, such as Microsoft Bot Framework, Dialogflow, and Botpress, that provide tools and resources for building bots. These platforms often offer easy-to-use interfaces, pre-built bot templates, and integration with popular messaging platforms.\\n\\n2. Programming your own bot: If you have programming skills, you can create a bot from scratch using programming languages like Python, JavaScript, or Java. You can use libraries and frameworks like BotKit, ChatterBot, or Rasa to simplify the bot development process.\\n\\n3', role='assistant', function_call=None, tool_calls=None))"
      ]
     },
     "execution_count": 29,
     "metadata": {},
     "output_type": "execute_result"
    }
   ],
   "source": [
    "response.choices[1]"
   ]
  },
  {
   "cell_type": "code",
   "execution_count": 30,
   "id": "8da11e26-429e-452f-81ee-0c20095d9cf0",
   "metadata": {},
   "outputs": [],
   "source": [
    "student_description = \"Emily Johnson, a diligent student at Pinecrest University, shines with her academic achievements and commitment to excellence. With a commendable GPA of 3.8, she excels in her major courses, maintaining an impressive A- average, while demonstrating versatility by earning a solid B+ in her electives. Emily's passion lies in the realm of Computer Science, where she delves into the intricacies of coding and problem-solving with fervor. Hailing from 123 Oak Street in Springfield, IL, Emily brings not only academic prowess but also a strong sense of dedication and determination to her studies.\""
   ]
  },
  {
   "cell_type": "code",
   "execution_count": 31,
   "id": "53c5ac83-40c9-48ce-905c-233b44259444",
   "metadata": {},
   "outputs": [
    {
     "data": {
      "text/plain": [
       "\"Emily Johnson, a diligent student at Pinecrest University, shines with her academic achievements and commitment to excellence. With a commendable GPA of 3.8, she excels in her major courses, maintaining an impressive A- average, while demonstrating versatility by earning a solid B+ in her electives. Emily's passion lies in the realm of Computer Science, where she delves into the intricacies of coding and problem-solving with fervor. Hailing from 123 Oak Street in Springfield, IL, Emily brings not only academic prowess but also a strong sense of dedication and determination to her studies.\""
      ]
     },
     "execution_count": 31,
     "metadata": {},
     "output_type": "execute_result"
    }
   ],
   "source": [
    "student_description"
   ]
  },
  {
   "cell_type": "code",
   "execution_count": 32,
   "id": "8abe432f-bee5-4c63-9357-22abe5c14f31",
   "metadata": {},
   "outputs": [],
   "source": [
    "prompt = f'''\n",
    "Please extract the following information from the givent text and return it as a json object\n",
    "\n",
    "name\n",
    "college\n",
    "grades\n",
    "address\n",
    "\n",
    "This is the body of text to extract the information from:\n",
    "{student_description}\n",
    "'''"
   ]
  },
  {
   "cell_type": "code",
   "execution_count": 33,
   "id": "d3992019-1e56-4d4d-a10a-e81155ca434f",
   "metadata": {},
   "outputs": [
    {
     "data": {
      "text/plain": [
       "\"\\nPlease extract the following information from the givent text and return it as a json object\\n\\nname\\ncollege\\ngrades\\naddress\\n\\nThis is the body of text to extract the information from:\\nEmily Johnson, a diligent student at Pinecrest University, shines with her academic achievements and commitment to excellence. With a commendable GPA of 3.8, she excels in her major courses, maintaining an impressive A- average, while demonstrating versatility by earning a solid B+ in her electives. Emily's passion lies in the realm of Computer Science, where she delves into the intricacies of coding and problem-solving with fervor. Hailing from 123 Oak Street in Springfield, IL, Emily brings not only academic prowess but also a strong sense of dedication and determination to her studies.\\n\""
      ]
     },
     "execution_count": 33,
     "metadata": {},
     "output_type": "execute_result"
    }
   ],
   "source": [
    "prompt"
   ]
  },
  {
   "cell_type": "code",
   "execution_count": 35,
   "id": "fe00f4bb-df9e-4fed-8c53-5aaaa927852d",
   "metadata": {},
   "outputs": [],
   "source": [
    "response = client.chat.completions.create(\n",
    "    model=\"gpt-3.5-turbo\",\n",
    "    messages = [\n",
    "        {\n",
    "            \"role\":\"user\",\n",
    "            \"content\":prompt\n",
    "        }\n",
    "    ]\n",
    ")"
   ]
  },
  {
   "cell_type": "code",
   "execution_count": 40,
   "id": "163270e6-a880-42f8-9c27-4a41f701859a",
   "metadata": {},
   "outputs": [
    {
     "data": {
      "text/plain": [
       "{'name': 'Emily Johnson',\n",
       " 'college': 'Pinecrest University',\n",
       " 'grades': {'GPA': 3.8, 'majorCoursesAverage': 'A-', 'electivesAverage': 'B+'},\n",
       " 'address': '123 Oak Street, Springfield, IL'}"
      ]
     },
     "execution_count": 40,
     "metadata": {},
     "output_type": "execute_result"
    }
   ],
   "source": [
    "import json\n",
    "json.loads(response.choices[0].message.content)"
   ]
  },
  {
   "cell_type": "raw",
   "id": "e099c814-792e-4b4c-ab20-d7e81e8d68bc",
   "metadata": {},
   "source": [
    "Function "
   ]
  },
  {
   "cell_type": "code",
   "execution_count": 45,
   "id": "c651d446-becf-4f74-b11f-5f86d7a83555",
   "metadata": {},
   "outputs": [],
   "source": [
    "student_custom_function = [\n",
    "        {\n",
    "            \"type\": \"function\",\n",
    "            \"function\": {\n",
    "                \"name\": \"extract_student_info\",\n",
    "                \"description\": \"Get the student information from the body of the input text\",\n",
    "                \"parameters\": {\n",
    "                    \"type\": \"object\",\n",
    "                    \"properties\": {\n",
    "                        \"name\": {\n",
    "                            \"type\": \"string\",\n",
    "                            \"description\": \"Name of the person\",\n",
    "                        },\n",
    "                        \"college\": {\n",
    "                            \"type\": \"string\", \n",
    "                            \"description\": \"The college name\",\n",
    "                        },\n",
    "                        \"grades\": {\n",
    "                            \"type\": \"integer\",\n",
    "                            \"description\": \"CGPA of the student\",\n",
    "                        },\n",
    "                        \"address\": {\n",
    "                            \"type\": \"string\",\n",
    "                            \"description\": \"Address of the student\",\n",
    "                        },\n",
    "                    },\n",
    "                },\n",
    "            },\n",
    "        }\n",
    "    ]"
   ]
  },
  {
   "cell_type": "code",
   "execution_count": 49,
   "id": "03315eff-bd54-47b3-b4a6-218fdf21c220",
   "metadata": {},
   "outputs": [],
   "source": [
    "response2 = client.chat.completions.create(\n",
    "    model=\"gpt-3.5-turbo\",\n",
    "    messages = [{\"role\":\"user\", \"content\":student_description}],\n",
    "    tools=student_custom_function\n",
    ")"
   ]
  },
  {
   "cell_type": "code",
   "execution_count": 63,
   "id": "491788ed-7d8d-4f16-81d4-d8c0608bf27c",
   "metadata": {},
   "outputs": [
    {
     "data": {
      "text/plain": [
       "{'name': 'Emily Johnson',\n",
       " 'college': 'Pinecrest University',\n",
       " 'grades': 3.8,\n",
       " 'address': '123 Oak Street, Springfield, IL'}"
      ]
     },
     "execution_count": 63,
     "metadata": {},
     "output_type": "execute_result"
    }
   ],
   "source": [
    "json.loads(response2.choices[0].message.tool_calls[0].function.arguments)"
   ]
  },
  {
   "cell_type": "code",
   "execution_count": 64,
   "id": "cebd1d93-bca0-412d-8432-223ca7881ad8",
   "metadata": {},
   "outputs": [],
   "source": [
    "student_description2 = \"jhon smith, a diligent student at Lulo University, shines with her academic achievements and commitment to excellence. With a commendable GPA of 4.2, she excels in her major courses, maintaining an impressive B+ average, while demonstrating versatility by earning a solid C+ in her electives. Emily's passion lies in the realm of AI, where she delves into the intricacies of coding and problem-solving with fervor. Hailing from 45 Molu Street in kallugali, IL, Emily brings not only academic prowess but also a strong sense of dedication and determination to her studies.\""
   ]
  },
  {
   "cell_type": "code",
   "execution_count": 67,
   "id": "c3ad0610-6140-4e6e-a219-948fa8f2c2a7",
   "metadata": {},
   "outputs": [
    {
     "name": "stdout",
     "output_type": "stream",
     "text": [
      "Emily Johnson, a diligent student at Pinecrest University, shines with her academic achievements and commitment to excellence. With a commendable GPA of 3.8, she excels in her major courses, maintaining an impressive A- average, while demonstrating versatility by earning a solid B+ in her electives. Emily's passion lies in the realm of Computer Science, where she delves into the intricacies of coding and problem-solving with fervor. Hailing from 123 Oak Street in Springfield, IL, Emily brings not only academic prowess but also a strong sense of dedication and determination to her studies.\n",
      "jhon smith, a diligent student at Lulo University, shines with her academic achievements and commitment to excellence. With a commendable GPA of 4.2, she excels in her major courses, maintaining an impressive B+ average, while demonstrating versatility by earning a solid C+ in her electives. Emily's passion lies in the realm of AI, where she delves into the intricacies of coding and problem-solving with fervor. Hailing from 45 Molu Street in kallugali, IL, Emily brings not only academic prowess but also a strong sense of dedication and determination to her studies.\n"
     ]
    }
   ],
   "source": [
    "student_info = [student_description, student_description2]\n",
    "for student in student_info:\n",
    "    # response = client.chat.completions.create(\n",
    "    # model=\"gpt-3.5-turbo\",\n",
    "    # messages = [{\"role\":\"user\", \"content\":student}],\n",
    "    # tools=student_custom_function,\n",
    "    # tool_choice=\"auto\",\n",
    "    print(student)\n",
    "# )\n",
    "    # res = json.loads(response2.choices[0].message.tool_calls[0].function.arguments)\n",
    "    # print(res)"
   ]
  },
  {
   "cell_type": "code",
   "execution_count": 68,
   "id": "82081d44-9133-49d4-9fa1-2d753be77f2e",
   "metadata": {},
   "outputs": [
    {
     "name": "stdout",
     "output_type": "stream",
     "text": [
      "{'name': 'Emily Johnson', 'college': 'Pinecrest University', 'grades': 3.8, 'address': '123 Oak Street, Springfield, IL'}\n",
      "{'name': 'jhon smith', 'college': 'Lulo University', 'grades': 4.2, 'address': '45 Molu Street, kallugali, IL'}\n"
     ]
    }
   ],
   "source": [
    "for student in student_info:\n",
    "    response = client.chat.completions.create(\n",
    "    model=\"gpt-3.5-turbo\",\n",
    "    messages = [{\"role\":\"user\", \"content\":student}],\n",
    "    tools=student_custom_function,\n",
    "    tool_choice=\"auto\",\n",
    ")\n",
    "    res = json.loads(response.choices[0].message.tool_calls[0].function.arguments)\n",
    "    print(res)"
   ]
  },
  {
   "cell_type": "code",
   "execution_count": 69,
   "id": "fbf36d11-43e7-4a20-9fcb-14c7359e27fe",
   "metadata": {},
   "outputs": [],
   "source": [
    "student_custom_function_two = [\n",
    "        {\n",
    "            \"type\": \"function\",\n",
    "            \"function\": {\n",
    "                \"name\": \"extract_student_passion\",\n",
    "                \"description\": \"Get the student information from the body of the input text\",\n",
    "                \"parameters\": {\n",
    "                    \"type\": \"object\",\n",
    "                    \"properties\": {\n",
    "                        \"name\": {\n",
    "                            \"type\": \"string\",\n",
    "                            \"description\": \"Name of the person\",\n",
    "                        },\n",
    "                        \"passion\": {\n",
    "                            \"type\": \"string\",\n",
    "                            \"description\": \"passion of the student\",\n",
    "                        },\n",
    "                    },\n",
    "                },\n",
    "            },\n",
    "        }\n",
    "    ]"
   ]
  },
  {
   "cell_type": "code",
   "execution_count": 72,
   "id": "f7489439-adf9-4ffe-ab10-23726b3799b0",
   "metadata": {},
   "outputs": [
    {
     "name": "stdout",
     "output_type": "stream",
     "text": [
      "ChatCompletion(id='chatcmpl-9NmLC0uCsH9vTm1DuhC0dp2c7oC7l', choices=[Choice(finish_reason='tool_calls', index=0, logprobs=None, message=ChatCompletionMessage(content=None, role='assistant', function_call=None, tool_calls=[ChatCompletionMessageToolCall(id='call_h5PRplpJszbG2Vk7PyxCc8k0', function=Function(arguments='{\"name\": \"Emily Johnson\", \"college\": \"Pinecrest University\", \"grades\": 3.8, \"address\": \"123 Oak Street, Springfield, IL\"}', name='extract_student_info'), type='function'), ChatCompletionMessageToolCall(id='call_YCuokdtcJckUkAJnDBd6CKaa', function=Function(arguments='{\"name\": \"Emily Johnson\", \"passion\": \"Computer Science\"}', name='extract_student_passion'), type='function')]))], created=1715454394, model='gpt-3.5-turbo-0125', object='chat.completion', system_fingerprint=None, usage=CompletionUsage(completion_tokens=77, prompt_tokens=255, total_tokens=332))\n",
      "ChatCompletion(id='chatcmpl-9NmLDMohhBmrBochuQj56ica29jss', choices=[Choice(finish_reason='tool_calls', index=0, logprobs=None, message=ChatCompletionMessage(content=None, role='assistant', function_call=None, tool_calls=[ChatCompletionMessageToolCall(id='call_8IcK8vyEiuBydNJtmsmhV69E', function=Function(arguments='{\"name\": \"jhon smith\", \"college\": \"Lulo University\", \"grades\": 4.2, \"address\": \"45 Molu Street, kallugali, IL\"}', name='extract_student_info'), type='function'), ChatCompletionMessageToolCall(id='call_oBkesW1mnkxu3pR0orf9djwu', function=Function(arguments='{\"name\": \"jhon smith\", \"passion\": \"AI\"}', name='extract_student_passion'), type='function')]))], created=1715454395, model='gpt-3.5-turbo-0125', object='chat.completion', system_fingerprint=None, usage=CompletionUsage(completion_tokens=81, prompt_tokens=259, total_tokens=340))\n"
     ]
    }
   ],
   "source": [
    "function = [student_custom_function[0], student_custom_function_two[0]]\n",
    "student_info = [student_description, student_description2]\n",
    "for student in student_info:\n",
    "    response = client.chat.completions.create(\n",
    "    model=\"gpt-3.5-turbo\",\n",
    "    messages = [{\"role\":\"user\", \"content\":student}],\n",
    "    tools=function,\n",
    "    tool_choice=\"auto\",\n",
    ")\n",
    "    res = response\n",
    "    print(res)"
   ]
  },
  {
   "cell_type": "code",
   "execution_count": 78,
   "id": "5e4664a1-9fb6-4246-9c9e-ed941c549ed6",
   "metadata": {},
   "outputs": [
    {
     "data": {
      "text/plain": [
       "ChatCompletionMessageToolCall(id='call_8IcK8vyEiuBydNJtmsmhV69E', function=Function(arguments='{\"name\": \"jhon smith\", \"college\": \"Lulo University\", \"grades\": 4.2, \"address\": \"45 Molu Street, kallugali, IL\"}', name='extract_student_info'), type='function')"
      ]
     },
     "execution_count": 78,
     "metadata": {},
     "output_type": "execute_result"
    }
   ],
   "source": [
    "res.choices[0].message.tool_calls[0]"
   ]
  },
  {
   "cell_type": "code",
   "execution_count": 81,
   "id": "d7e872e2-ef83-4848-a82e-2c623f3f457c",
   "metadata": {},
   "outputs": [],
   "source": [
    "from datetime import datetime, timedelta\n",
    "def get_flight_info(loc_origin, loc_destinarion):\n",
    "    flight_info = {\n",
    "        \"loc_origin\":loc_origin,\n",
    "        \"loc_destinarion\":loc_destinarion,\n",
    "        \"time\":str(datetime.now()+timedelta(hours=2)),\n",
    "        \"airline\":\"TMBL\",\n",
    "        \"flight\":\"DT323\"\n",
    "    }\n",
    "    return json.dumps(flight_info)"
   ]
  },
  {
   "cell_type": "code",
   "execution_count": 82,
   "id": "c3719df3-f6c9-49be-ac75-f1c27f5de436",
   "metadata": {},
   "outputs": [
    {
     "data": {
      "text/plain": [
       "'{\"loc_origin\": \"del\", \"loc_destinarion\": \"bom\", \"time\": \"2024-05-12 03:04:20.595338\", \"airline\": \"TMBL\", \"flight\": \"DT323\"}'"
      ]
     },
     "execution_count": 82,
     "metadata": {},
     "output_type": "execute_result"
    }
   ],
   "source": [
    "get_flight_info(\"del\",\"bom\")"
   ]
  },
  {
   "cell_type": "code",
   "execution_count": 83,
   "id": "7356bf7e-3113-4a47-8b38-ed418db3ef1d",
   "metadata": {},
   "outputs": [],
   "source": [
    "function_descriptions = [\n",
    "        {\n",
    "            \"type\": \"function\",\n",
    "            \"function\": {\n",
    "                \"name\": \"get_flight_info\",\n",
    "                \"description\": \"Get flight information between two locations\",\n",
    "                \"parameters\": {\n",
    "                    \"type\": \"object\",\n",
    "                    \"properties\": {\n",
    "                        \"loc_origin\": {\n",
    "                            \"type\": \"string\",\n",
    "                            \"description\": \"The departure airport, e.g. DEL\",\n",
    "                        },\n",
    "                        \"loc_destination\": {\n",
    "                            \"type\": \"string\",\n",
    "                            \"description\": \"The destination airport, e.g. MUM\",\n",
    "                        },\n",
    "                    },\n",
    "                    \"required\":[\"loc_origin\", \"loc_destination\"],\n",
    "                },\n",
    "            },\n",
    "        }\n",
    "    ]"
   ]
  },
  {
   "cell_type": "code",
   "execution_count": 84,
   "id": "d1ba2b88-3bd1-4fb4-bf01-8f166c097847",
   "metadata": {},
   "outputs": [],
   "source": [
    "user_ptompt = \"when's the next flight from delhi to mumbai?\""
   ]
  },
  {
   "cell_type": "code",
   "execution_count": 87,
   "id": "591dd358-b5aa-4904-820e-3b6d80a3b894",
   "metadata": {},
   "outputs": [],
   "source": [
    "response2 = client.chat.completions.create(\n",
    "    model=\"gpt-3.5-turbo\",\n",
    "    messages = [\n",
    "        {\"role\":\"user\", \"content\":user_ptompt}],\n",
    "    tools=function_descriptions,\n",
    "    tool_choice=\"auto\",\n",
    ")"
   ]
  },
  {
   "cell_type": "code",
   "execution_count": 101,
   "id": "4f6b9a04-6e98-491d-8592-cb205e139d3d",
   "metadata": {},
   "outputs": [
    {
     "data": {
      "text/plain": [
       "'{\"loc_origin\":\"DEL\",\"loc_destination\":\"BOM\"}'"
      ]
     },
     "execution_count": 101,
     "metadata": {},
     "output_type": "execute_result"
    }
   ],
   "source": [
    "response2.choices[0].message.tool_calls[0].function.arguments"
   ]
  },
  {
   "cell_type": "code",
   "execution_count": 102,
   "id": "a4c39da6-42b8-4134-9ea5-0de43124c0de",
   "metadata": {},
   "outputs": [],
   "source": [
    "chosen_function=eval(response2.choices[0].message.tool_calls[0].function.name)\n",
    "params = json.loads(response2.choices[0].message.tool_calls[0].function.arguments)"
   ]
  },
  {
   "cell_type": "code",
   "execution_count": 111,
   "id": "6e5eb53e-f645-40f4-8d5f-2394be1f4a46",
   "metadata": {},
   "outputs": [
    {
     "data": {
      "text/plain": [
       "'{\"loc_origin\": \"DEL\", \"loc_destinarion\": \"BOM\", \"time\": \"2024-05-12 03:30:24.563832\", \"airline\": \"TMBL\", \"flight\": \"DT323\"}'"
      ]
     },
     "execution_count": 111,
     "metadata": {},
     "output_type": "execute_result"
    }
   ],
   "source": [
    "flight = chosen_function(params.get(\"loc_origin\"), params.get(\"loc_destination\"))\n",
    "flight"
   ]
  },
  {
   "cell_type": "code",
   "execution_count": 115,
   "id": "dcf1d893-a79d-40ab-8b0f-795080c0c72b",
   "metadata": {},
   "outputs": [],
   "source": [
    "response3 = client.chat.completions.create(\n",
    "    model=\"gpt-3.5-turbo\",\n",
    "    messages = [\n",
    "        {\"role\":\"user\", \"content\":user_ptompt},\n",
    "        {\"role\":\"function\", \"name\":response2.choices[0].message.tool_calls[0].function.name, \"content\": flight},\n",
    "    ],\n",
    "    tools=function_descriptions,\n",
    "    tool_choice=\"auto\",\n",
    ")"
   ]
  },
  {
   "cell_type": "code",
   "execution_count": 116,
   "id": "1771d27e-bc42-4f62-9c04-5a08c8e1b497",
   "metadata": {},
   "outputs": [
    {
     "data": {
      "text/plain": [
       "ChatCompletion(id='chatcmpl-9NnCz3d5xgBM0Tt0ADROKxj6tLD2W', choices=[Choice(finish_reason='stop', index=0, logprobs=None, message=ChatCompletionMessage(content='The next flight from Delhi (DEL) to Mumbai (BOM) is on May 12, 2024 at 03:30 AM. The flight is operated by TMBL airline with flight number DT323.', role='assistant', function_call=None, tool_calls=None))], created=1715457729, model='gpt-3.5-turbo-0125', object='chat.completion', system_fingerprint=None, usage=CompletionUsage(completion_tokens=46, prompt_tokens=145, total_tokens=191))"
      ]
     },
     "execution_count": 116,
     "metadata": {},
     "output_type": "execute_result"
    }
   ],
   "source": [
    "response3"
   ]
  },
  {
   "cell_type": "markdown",
   "id": "02a1d888-e6e2-420b-9f79-ca229bde43f2",
   "metadata": {},
   "source": [
    "Langchain"
   ]
  },
  {
   "cell_type": "code",
   "execution_count": 117,
   "id": "557e332c-436b-43e1-a66d-2c827ea0c8f5",
   "metadata": {},
   "outputs": [],
   "source": [
    "import langchain"
   ]
  },
  {
   "cell_type": "code",
   "execution_count": 123,
   "id": "4510f332-feac-4757-a26f-f7498fd20a6d",
   "metadata": {},
   "outputs": [],
   "source": [
    "from langchain_openai import ChatOpenAI"
   ]
  },
  {
   "cell_type": "code",
   "execution_count": 124,
   "id": "505b7931-4511-4b2c-903e-aed2b31d0eff",
   "metadata": {},
   "outputs": [],
   "source": [
    "client = ChatOpenAI(api_key=myKey)"
   ]
  },
  {
   "cell_type": "code",
   "execution_count": 125,
   "id": "e1434d52-52dc-4b10-8ba8-9d60511d54c3",
   "metadata": {},
   "outputs": [],
   "source": [
    "prompt = \"can you tell me total number of country in asia\""
   ]
  },
  {
   "cell_type": "code",
   "execution_count": 127,
   "id": "7cd8497c-d37d-441c-819c-71efa013ecff",
   "metadata": {},
   "outputs": [
    {
     "data": {
      "text/plain": [
       "AIMessage(content='There are 49 countries in Asia.', response_metadata={'token_usage': {'completion_tokens': 8, 'prompt_tokens': 17, 'total_tokens': 25}, 'model_name': 'gpt-3.5-turbo', 'system_fingerprint': None, 'finish_reason': 'stop', 'logprobs': None}, id='run-889923e9-d99f-4de8-ab8c-d86e9ba0f890-0')"
      ]
     },
     "execution_count": 127,
     "metadata": {},
     "output_type": "execute_result"
    }
   ],
   "source": [
    "client.invoke(prompt)"
   ]
  },
  {
   "cell_type": "raw",
   "id": "fda23e42-51a3-4776-b52a-47ac8784f8d9",
   "metadata": {},
   "source": [
    "Prompt Template"
   ]
  },
  {
   "cell_type": "code",
   "execution_count": 129,
   "id": "c8e138ea-d6eb-484d-be0a-9cb5ac768ff7",
   "metadata": {},
   "outputs": [],
   "source": [
    "from langchain.prompts import PromptTemplate"
   ]
  },
  {
   "cell_type": "code",
   "execution_count": 133,
   "id": "38faf498-e843-4c28-8ac7-e30b96fe6c23",
   "metadata": {},
   "outputs": [],
   "source": [
    "prompt_template_name = PromptTemplate(\n",
    "    input_variables=[\"city\"],\n",
    "    template=\"can you tell me the capital of {city}?\"\n",
    ")"
   ]
  },
  {
   "cell_type": "code",
   "execution_count": 136,
   "id": "b29a8ddc-71e9-4945-9112-fe4c05f9d2a3",
   "metadata": {},
   "outputs": [],
   "source": [
    "prompt1 = prompt_template_name.format(city=\"delhi\")"
   ]
  },
  {
   "cell_type": "code",
   "execution_count": 137,
   "id": "d7d94cf7-6d65-477a-8e88-e8fc6978f79b",
   "metadata": {},
   "outputs": [],
   "source": [
    "prompt2 = prompt_template_name.format(city=\"china\")"
   ]
  },
  {
   "cell_type": "code",
   "execution_count": 138,
   "id": "f9982439-fdb4-4c5b-819f-8560852d927e",
   "metadata": {},
   "outputs": [
    {
     "data": {
      "text/plain": [
       "AIMessage(content='The capital of Delhi is New Delhi.', response_metadata={'token_usage': {'completion_tokens': 8, 'prompt_tokens': 17, 'total_tokens': 25}, 'model_name': 'gpt-3.5-turbo', 'system_fingerprint': None, 'finish_reason': 'stop', 'logprobs': None}, id='run-77b20d07-d62b-4621-9ed4-91817138c1db-0')"
      ]
     },
     "execution_count": 138,
     "metadata": {},
     "output_type": "execute_result"
    }
   ],
   "source": [
    "client.invoke(prompt1)"
   ]
  },
  {
   "cell_type": "code",
   "execution_count": 139,
   "id": "5493fd6e-fa80-4a42-8e92-7fb49ccb28f3",
   "metadata": {},
   "outputs": [
    {
     "data": {
      "text/plain": [
       "AIMessage(content='The capital of China is Beijing.', response_metadata={'token_usage': {'completion_tokens': 7, 'prompt_tokens': 16, 'total_tokens': 23}, 'model_name': 'gpt-3.5-turbo', 'system_fingerprint': None, 'finish_reason': 'stop', 'logprobs': None}, id='run-6db3a36a-106a-49b6-b2ac-eca1c4457035-0')"
      ]
     },
     "execution_count": 139,
     "metadata": {},
     "output_type": "execute_result"
    }
   ],
   "source": [
    "client.invoke(prompt2)"
   ]
  },
  {
   "cell_type": "markdown",
   "id": "59f32770-4040-44fc-b578-576ca048e036",
   "metadata": {},
   "source": [
    "#Agent \n",
    "# to call 3rd party api"
   ]
  },
  {
   "cell_type": "code",
   "execution_count": 140,
   "id": "f62efd06-1f30-413d-9b19-d699781f2deb",
   "metadata": {},
   "outputs": [],
   "source": [
    "prompt4 = \"can you tell me who won the recent cricket world cup?\""
   ]
  },
  {
   "cell_type": "code",
   "execution_count": 141,
   "id": "22e66f0d-a01e-43db-9def-3977cb959b61",
   "metadata": {},
   "outputs": [
    {
     "data": {
      "text/plain": [
       "AIMessage(content='The 2019 Cricket World Cup was won by England. They defeated New Zealand in a thrilling final that went into a Super Over, with England ultimately being crowned champions based on their boundary count.', response_metadata={'token_usage': {'completion_tokens': 39, 'prompt_tokens': 19, 'total_tokens': 58}, 'model_name': 'gpt-3.5-turbo', 'system_fingerprint': None, 'finish_reason': 'stop', 'logprobs': None}, id='run-32ac8108-8bc8-4f8f-8bf7-b186488db088-0')"
      ]
     },
     "execution_count": 141,
     "metadata": {},
     "output_type": "execute_result"
    }
   ],
   "source": [
    "client.invoke(prompt4)"
   ]
  },
  {
   "cell_type": "code",
   "execution_count": null,
   "id": "f4cd6e1c-497c-49fa-aea9-212f17255116",
   "metadata": {},
   "outputs": [],
   "source": [
    "#serp API will use for extract real time data via api"
   ]
  },
  {
   "cell_type": "code",
   "execution_count": 142,
   "id": "3d9d238a-348f-4b54-8715-8f9b9ab32004",
   "metadata": {},
   "outputs": [],
   "source": [
    "serpapi_key=\"serpapi_key\""
   ]
  },
  {
   "cell_type": "code",
   "execution_count": 143,
   "id": "17daa7fb-d60c-47bf-9b51-446dcd6ec729",
   "metadata": {},
   "outputs": [],
   "source": [
    "from langchain.agents import AgentType\n",
    "from langchain.agents import load_tools\n",
    "from langchain.agents import initialize_agent\n",
    "from langchain.llms import OpenAI"
   ]
  },
  {
   "cell_type": "code",
   "execution_count": 144,
   "id": "10a1a6c4-cae0-44a8-88bd-77e55a2b6e77",
   "metadata": {},
   "outputs": [],
   "source": [
    "client = ChatOpenAI(api_key=myKey)"
   ]
  },
  {
   "cell_type": "code",
   "execution_count": 146,
   "id": "fc1d631e-123a-4fb0-89b4-fcf2e502a8c4",
   "metadata": {},
   "outputs": [],
   "source": [
    "tool = load_tools([\"serpapi\"], serpapi_api_key=serpapi_key, llm=client)"
   ]
  },
  {
   "cell_type": "code",
   "execution_count": 147,
   "id": "df06486f-85f3-46a6-bebd-cee11c57ac25",
   "metadata": {},
   "outputs": [
    {
     "name": "stderr",
     "output_type": "stream",
     "text": [
      "C:\\Users\\Vikas\\anaconda3\\envs\\GenAI\\Lib\\site-packages\\langchain_core\\_api\\deprecation.py:119: LangChainDeprecationWarning: The function `initialize_agent` was deprecated in LangChain 0.1.0 and will be removed in 0.3.0. Use Use new agent constructor methods like create_react_agent, create_json_agent, create_structured_chat_agent, etc. instead.\n",
      "  warn_deprecated(\n"
     ]
    }
   ],
   "source": [
    "agent = initialize_agent(tool, client, agent=AgentType.ZERO_SHOT_REACT_DESCRIPTION, verbose=True)"
   ]
  },
  {
   "cell_type": "code",
   "execution_count": 148,
   "id": "f1aa54f1-3943-41ac-a2da-ca7cc3b17424",
   "metadata": {},
   "outputs": [
    {
     "name": "stderr",
     "output_type": "stream",
     "text": [
      "C:\\Users\\Vikas\\anaconda3\\envs\\GenAI\\Lib\\site-packages\\langchain_core\\_api\\deprecation.py:119: LangChainDeprecationWarning: The method `Chain.run` was deprecated in langchain 0.1.0 and will be removed in 0.3.0. Use invoke instead.\n",
      "  warn_deprecated(\n"
     ]
    },
    {
     "name": "stdout",
     "output_type": "stream",
     "text": [
      "\n",
      "\n",
      "\u001b[1m> Entering new AgentExecutor chain...\u001b[0m\n",
      "\u001b[32;1m\u001b[1;3mI should search for the winner of the recent cricket world cup\n",
      "Action: Search\n",
      "Action Input: \"recent cricket world cup winner\"\u001b[0m\n",
      "Observation: \u001b[36;1m\u001b[1;3m{'title': 'ICC Cricket World Cup', 'thumbnail': 'https://serpapi.com/searches/664096cb4d443d4a9b3d5100/images/2fdbb0c37f09e24f47c6b398225049d74afe799a01204331cc4330744248b6c6.png', 'games': [{'tournament': 'ICC Cricket World Cup', 'stadium': 'Narendra Modi Stadium', 'date': 'Nov 19, 23', 'teams': [{'name': 'India', 'score': '240 (50)', 'thumbnail': 'https://serpapi.com/searches/664096cb4d443d4a9b3d5100/images/2fdbb0c37f09e24f4e1e177856b55d267a25c24f6ecfd14d8eba614c1c1ffb24b005bfd6845353d62a11bbc2d21968dd.png'}, {'name': 'Australia', 'score': '241/4 (43)', 'thumbnail': 'https://serpapi.com/searches/664096cb4d443d4a9b3d5100/images/2fdbb0c37f09e24f4e1e177856b55d267a25c24f6ecfd14d120adf0c2b5cc309a16f55068e5b3a8b076511f8bda52596.png'}], 'status': 'AUS won by 6 wickets (42 balls left)'}, {'tournament': 'ICC Cricket World Cup', 'stadium': 'Eden Gardens', 'date': 'Nov 16, 23', 'teams': [{'name': 'South Africa', 'score': '212 (49.4)', 'thumbnail': 'https://serpapi.com/searches/664096cb4d443d4a9b3d5100/images/2fdbb0c37f09e24f4e1e177856b55d26cedd35115b130680ee576312cfe07352166d731b0157e5d35ee7cb54debbd184.png'}, {'name': 'Australia', 'score': '215/7 (47.2)', 'thumbnail': 'https://serpapi.com/searches/664096cb4d443d4a9b3d5100/images/2fdbb0c37f09e24f4e1e177856b55d26cedd35115b130680816c3f13d5bba8613e16681e9c70851db5edc95473669ac3.png'}], 'status': 'AUS won by 3 wickets (16 balls left)'}, {'tournament': 'ICC Cricket World Cup', 'stadium': 'Wankhede Stadium', 'date': 'Nov 15, 23', 'teams': [{'name': 'India', 'score': '397/4 (50)', 'thumbnail': 'https://serpapi.com/searches/664096cb4d443d4a9b3d5100/images/2fdbb0c37f09e24f4e1e177856b55d26d8785df224ca10390f8157006aa3115b84dea8a419269846c17f495ea117a1f5.png'}, {'name': 'New Zealand', 'score': '327 (48.5)', 'thumbnail': 'https://serpapi.com/searches/664096cb4d443d4a9b3d5100/images/2fdbb0c37f09e24f4e1e177856b55d26d8785df224ca103984071b49ac55efb6723569ad8cb09e074fdc4355c41557d8.png'}], 'status': 'IND won by 70 runs'}, {'tournament': 'ICC Cricket World Cup', 'stadium': 'M. Chinnaswamy Stadium', 'date': 'Nov 12, 23', 'teams': [{'name': 'India', 'score': '410/4 (50)', 'thumbnail': 'https://serpapi.com/searches/664096cb4d443d4a9b3d5100/images/2fdbb0c37f09e24f4e1e177856b55d2696e25c13a9eaa4c538d3425b92730b39f88f028b11eb002a6a4108a97f83142c.png'}, {'name': 'Netherlands', 'score': '250 (47.5)', 'thumbnail': 'https://serpapi.com/searches/664096cb4d443d4a9b3d5100/images/2fdbb0c37f09e24f4e1e177856b55d2696e25c13a9eaa4c55de4974213f05d8d83826dc86b25b2d96085dd97336e1459.png'}], 'status': 'IND won by 160 runs'}, {'tournament': 'ICC Cricket World Cup', 'stadium': 'Eden Gardens', 'date': 'Nov 11, 23', 'teams': [{'name': 'England', 'score': '337/9 (50)', 'thumbnail': 'https://serpapi.com/searches/664096cb4d443d4a9b3d5100/images/2fdbb0c37f09e24f4e1e177856b55d261f8a238fc670709a45adeb22f132e87780086e0676d67fb434983fae093478b3.png'}, {'name': 'Pakistan', 'score': '244 (43.3)', 'thumbnail': 'https://serpapi.com/searches/664096cb4d443d4a9b3d5100/images/2fdbb0c37f09e24f4e1e177856b55d261f8a238fc670709a33460f88acdd60e885975d3fa235611eb5b9340dba37ccef.png'}], 'status': 'ENG won by 93 runs'}, {'tournament': 'ICC Cricket World Cup', 'stadium': 'Maharashtra Cricket Association Stadium', 'date': 'Nov 11, 23', 'teams': [{'name': 'Bangladesh', 'score': '306/8 (50)', 'thumbnail': 'https://serpapi.com/searches/664096cb4d443d4a9b3d5100/images/2fdbb0c37f09e24f4e1e177856b55d26b472cf22fa87ddd0da6a4df870fa888923ac98513caa7dd330e1da5b96268245.png'}, {'name': 'Australia', 'score': '307/2 (44.4)', 'thumbnail': 'https://serpapi.com/searches/664096cb4d443d4a9b3d5100/images/2fdbb0c37f09e24f4e1e177856b55d26b472cf22fa87ddd0529ddd99c91a37f6adc20541ba0a7c1370ec95a3308ce246.png'}], 'status': 'AUS won by 8 wickets (32 balls left)'}]}\u001b[0m\n",
      "Thought:\u001b[32;1m\u001b[1;3mI should search for the winner of the recent cricket world cup\n",
      "Action: Search\n",
      "Action Input: \"recent cricket world cup winner\"\u001b[0m\n",
      "Observation: \u001b[36;1m\u001b[1;3m{'title': 'ICC Cricket World Cup', 'thumbnail': 'https://serpapi.com/searches/664096cb4d443d4a9b3d5100/images/2fdbb0c37f09e24f47c6b398225049d74afe799a01204331cc4330744248b6c6.png', 'games': [{'tournament': 'ICC Cricket World Cup', 'stadium': 'Narendra Modi Stadium', 'date': 'Nov 19, 23', 'teams': [{'name': 'India', 'score': '240 (50)', 'thumbnail': 'https://serpapi.com/searches/664096cb4d443d4a9b3d5100/images/2fdbb0c37f09e24f4e1e177856b55d267a25c24f6ecfd14d8eba614c1c1ffb24b005bfd6845353d62a11bbc2d21968dd.png'}, {'name': 'Australia', 'score': '241/4 (43)', 'thumbnail': 'https://serpapi.com/searches/664096cb4d443d4a9b3d5100/images/2fdbb0c37f09e24f4e1e177856b55d267a25c24f6ecfd14d120adf0c2b5cc309a16f55068e5b3a8b076511f8bda52596.png'}], 'status': 'AUS won by 6 wickets (42 balls left)'}, {'tournament': 'ICC Cricket World Cup', 'stadium': 'Eden Gardens', 'date': 'Nov 16, 23', 'teams': [{'name': 'South Africa', 'score': '212 (49.4)', 'thumbnail': 'https://serpapi.com/searches/664096cb4d443d4a9b3d5100/images/2fdbb0c37f09e24f4e1e177856b55d26cedd35115b130680ee576312cfe07352166d731b0157e5d35ee7cb54debbd184.png'}, {'name': 'Australia', 'score': '215/7 (47.2)', 'thumbnail': 'https://serpapi.com/searches/664096cb4d443d4a9b3d5100/images/2fdbb0c37f09e24f4e1e177856b55d26cedd35115b130680816c3f13d5bba8613e16681e9c70851db5edc95473669ac3.png'}], 'status': 'AUS won by 3 wickets (16 balls left)'}, {'tournament': 'ICC Cricket World Cup', 'stadium': 'Wankhede Stadium', 'date': 'Nov 15, 23', 'teams': [{'name': 'India', 'score': '397/4 (50)', 'thumbnail': 'https://serpapi.com/searches/664096cb4d443d4a9b3d5100/images/2fdbb0c37f09e24f4e1e177856b55d26d8785df224ca10390f8157006aa3115b84dea8a419269846c17f495ea117a1f5.png'}, {'name': 'New Zealand', 'score': '327 (48.5)', 'thumbnail': 'https://serpapi.com/searches/664096cb4d443d4a9b3d5100/images/2fdbb0c37f09e24f4e1e177856b55d26d8785df224ca103984071b49ac55efb6723569ad8cb09e074fdc4355c41557d8.png'}], 'status': 'IND won by 70 runs'}, {'tournament': 'ICC Cricket World Cup', 'stadium': 'M. Chinnaswamy Stadium', 'date': 'Nov 12, 23', 'teams': [{'name': 'India', 'score': '410/4 (50)', 'thumbnail': 'https://serpapi.com/searches/664096cb4d443d4a9b3d5100/images/2fdbb0c37f09e24f4e1e177856b55d2696e25c13a9eaa4c538d3425b92730b39f88f028b11eb002a6a4108a97f83142c.png'}, {'name': 'Netherlands', 'score': '250 (47.5)', 'thumbnail': 'https://serpapi.com/searches/664096cb4d443d4a9b3d5100/images/2fdbb0c37f09e24f4e1e177856b55d2696e25c13a9eaa4c55de4974213f05d8d83826dc86b25b2d96085dd97336e1459.png'}], 'status': 'IND won by 160 runs'}, {'tournament': 'ICC Cricket World Cup', 'stadium': 'Eden Gardens', 'date': 'Nov 11, 23', 'teams': [{'name': 'England', 'score': '337/9 (50)', 'thumbnail': 'https://serpapi.com/searches/664096cb4d443d4a9b3d5100/images/2fdbb0c37f09e24f4e1e177856b55d261f8a238fc670709a45adeb22f132e87780086e0676d67fb434983fae093478b3.png'}, {'name': 'Pakistan', 'score': '244 (43.3)', 'thumbnail': 'https://serpapi.com/searches/664096cb4d443d4a9b3d5100/images/2fdbb0c37f09e24f4e1e177856b55d261f8a238fc670709a33460f88acdd60e885975d3fa235611eb5b9340dba37ccef.png'}], 'status': 'ENG won by 93 runs'}, {'tournament': 'ICC Cricket World Cup', 'stadium': 'Maharashtra Cricket Association Stadium', 'date': 'Nov 11, 23', 'teams': [{'name': 'Bangladesh', 'score': '306/8 (50)', 'thumbnail': 'https://serpapi.com/searches/664096cb4d443d4a9b3d5100/images/2fdbb0c37f09e24f4e1e177856b55d26b472cf22fa87ddd0da6a4df870fa888923ac98513caa7dd330e1da5b96268245.png'}, {'name': 'Australia', 'score': '307/2 (44.4)', 'thumbnail': 'https://serpapi.com/searches/664096cb4d443d4a9b3d5100/images/2fdbb0c37f09e24f4e1e177856b55d26b472cf22fa87ddd0529ddd99c91a37f6adc20541ba0a7c1370ec95a3308ce246.png'}], 'status': 'AUS won by 8 wickets (32 balls left)'}]}\u001b[0m\n",
      "Thought:\u001b[32;1m\u001b[1;3mI now know the final answer\n",
      "Final Answer: Australia won the recent cricket world cup.\u001b[0m\n",
      "\n",
      "\u001b[1m> Finished chain.\u001b[0m\n"
     ]
    },
    {
     "data": {
      "text/plain": [
       "'Australia won the recent cricket world cup.'"
      ]
     },
     "execution_count": 148,
     "metadata": {},
     "output_type": "execute_result"
    }
   ],
   "source": [
    "agent.run(prompt4)"
   ]
  },
  {
   "cell_type": "code",
   "execution_count": 149,
   "id": "c66035ec-e0df-441d-a92d-0fdbbdb9292b",
   "metadata": {},
   "outputs": [
    {
     "name": "stdout",
     "output_type": "stream",
     "text": [
      "Collecting wikipedia\n",
      "  Downloading wikipedia-1.4.0.tar.gz (27 kB)\n",
      "  Preparing metadata (setup.py): started\n",
      "  Preparing metadata (setup.py): finished with status 'done'\n",
      "Requirement already satisfied: beautifulsoup4 in c:\\users\\vikas\\anaconda3\\envs\\genai\\lib\\site-packages (from wikipedia) (4.12.3)\n",
      "Requirement already satisfied: requests<3.0.0,>=2.0.0 in c:\\users\\vikas\\anaconda3\\envs\\genai\\lib\\site-packages (from wikipedia) (2.31.0)\n",
      "Requirement already satisfied: charset-normalizer<4,>=2 in c:\\users\\vikas\\anaconda3\\envs\\genai\\lib\\site-packages (from requests<3.0.0,>=2.0.0->wikipedia) (3.3.2)\n",
      "Requirement already satisfied: idna<4,>=2.5 in c:\\users\\vikas\\anaconda3\\envs\\genai\\lib\\site-packages (from requests<3.0.0,>=2.0.0->wikipedia) (3.7)\n",
      "Requirement already satisfied: urllib3<3,>=1.21.1 in c:\\users\\vikas\\anaconda3\\envs\\genai\\lib\\site-packages (from requests<3.0.0,>=2.0.0->wikipedia) (2.2.1)\n",
      "Requirement already satisfied: certifi>=2017.4.17 in c:\\users\\vikas\\anaconda3\\envs\\genai\\lib\\site-packages (from requests<3.0.0,>=2.0.0->wikipedia) (2024.2.2)\n",
      "Requirement already satisfied: soupsieve>1.2 in c:\\users\\vikas\\anaconda3\\envs\\genai\\lib\\site-packages (from beautifulsoup4->wikipedia) (2.5)\n",
      "Building wheels for collected packages: wikipedia\n",
      "  Building wheel for wikipedia (setup.py): started\n",
      "  Building wheel for wikipedia (setup.py): finished with status 'done'\n",
      "  Created wheel for wikipedia: filename=wikipedia-1.4.0-py3-none-any.whl size=11706 sha256=e27c32b7b2f468d6482abd850ac8e21b0cd17cc90d9a6999e9cd2eb47ce9f2b0\n",
      "  Stored in directory: c:\\users\\vikas\\appdata\\local\\pip\\cache\\wheels\\8f\\ab\\cb\\45ccc40522d3a1c41e1d2ad53b8f33a62f394011ec38cd71c6\n",
      "Successfully built wikipedia\n",
      "Installing collected packages: wikipedia\n",
      "Successfully installed wikipedia-1.4.0\n"
     ]
    }
   ],
   "source": [
    "!pip install wikipedia"
   ]
  },
  {
   "cell_type": "code",
   "execution_count": 150,
   "id": "f4849e87-4090-41e8-b5c7-18110cc17c3a",
   "metadata": {},
   "outputs": [],
   "source": [
    "tool = load_tools([\"wikipedia\"], llm=client)"
   ]
  },
  {
   "cell_type": "code",
   "execution_count": 151,
   "id": "89084791-cd8f-4b19-980d-acfed1cce777",
   "metadata": {},
   "outputs": [],
   "source": [
    "agent = initialize_agent(tool, client, agent=AgentType.ZERO_SHOT_REACT_DESCRIPTION, verbose=True)"
   ]
  },
  {
   "cell_type": "code",
   "execution_count": 152,
   "id": "73e1f98f-018b-4506-b4dd-fe79f8f044a0",
   "metadata": {},
   "outputs": [
    {
     "name": "stdout",
     "output_type": "stream",
     "text": [
      "\n",
      "\n",
      "\u001b[1m> Entering new AgentExecutor chain...\u001b[0m\n",
      "\u001b[32;1m\u001b[1;3myou should search for information about the recent cricket World Cup\n",
      "Action: wikipedia\n",
      "Action Input: 2019 Cricket World Cup\u001b[0m\n",
      "Observation: \u001b[36;1m\u001b[1;3mPage: 2019 Cricket World Cup\n",
      "Summary: The 2019 ICC Cricket World Cup was the 12th Cricket World Cup, a quadrennial One Day International (ODI) cricket tournament contested by men's national teams and organised by the International Cricket Council (ICC). The tournament was hosted between 30 May and 14 July across 10 venues in England and a single venue in Wales. It was the fifth time that England had hosted the World Cup, while for Wales it was their third. \n",
      "The tournament was contested by 10 teams, a decrease from 14 teams in the previous edition, with the format of the tournament changing to a single round-robin group with the top four teams qualifying through to the knockout stage. After six weeks of round-robin matches, which saw four games not have a result, India, Australia, England, and New Zealand finished as the top four, with Pakistan missing out on net run rate.\n",
      "In the knockout stage, England and New Zealand won their respective semi-finals to qualify for the final, which was played at Lord's in London. The final ended in a tie after the match ended with both teams scoring 241 runs, followed by the first Super Over in an ODI; England won the title, their first, on the boundary countback rule after the Super Over also finished level. The total attendance throughout the 2019 ICC Cricket World Cup was 752,000.\n",
      "Overall, videos of the group stages amassed over 2.6 billion views from around the world, making it the most-watched cricket competition as of 2019.\n",
      "\n",
      "\n",
      "\n",
      "Page: 2023 Cricket World Cup\n",
      "Summary: The 2023 ICC Men's Cricket World Cup (also referred to as simply the 2023 Cricket World Cup) was the 13th edition of the Cricket World Cup, a quadrennial One Day International (ODI) cricket tournament organized by the International Cricket Council (ICC). It was hosted from 5 October to 19 November 2023 across ten venues in India.\n",
      "The tournament was contested by ten national teams, maintaining the same format used in 2019. In the knockout stage, India and Australia beat New Zealand and South Africa respectively to advance to the final, played on 19 November at Narendra Modi Stadium. Australia won by 6 wickets, winning their sixth Cricket World Cup title.\n",
      "Virat Kohli was the player of the tournament and also scored the most runs; Mohammed Shami was the leading wicket-taker. A total of 1,250,307 spectators attended matches, the highest number in any Cricket World Cup to-date. The tournament final set viewership records in India, with 518 million viewers, and a peak of 57 million streaming viewers.\n",
      "\n",
      "\n",
      "\n",
      "Page: Cricket World Cup\n",
      "Summary: The Cricket World Cup (officially known as ICC Men's Cricket World Cup) is the international championship of One Day International (ODI) cricket. The event is organised by the sport's governing body, the International Cricket Council (ICC), every four years, with preliminary qualification rounds leading up to a finals tournament. The tournament is one of the world's most viewed sporting events and considered as the \"flagship event of the international cricket calendar\" by the ICC. It is widely considered the pinnacle championship of the sport of cricket.\n",
      "The first World Cup was organised in England in June 1975, with the first ODI cricket match having been played only four years earlier. However, a separate Women's Cricket World Cup had been held two years before the first men's tournament, and a tournament involving multiple international teams had been held as early as 1912, when a triangular tournament of Test matches was played between Australia, England and South Africa. The first three World Cups were held in England. From the 1987 tournament onwards, hosting has been shared between countries under an unofficial rotation system, with fourteen ICC members having hosted at least one match in the tournament.\n",
      "The current format involves a qualification phase, which takes place over the preceding three years, to determine which teams qualify for the tournament phase. In the tournament phase, 10 teams,\u001b[0m\n",
      "Thought:\u001b[32;1m\u001b[1;3mI now know the final answer\n",
      "Final Answer: The 2019 ICC Cricket World Cup was the 12th edition of the tournament, hosted by England and Wales, with England winning their first title.\u001b[0m\n",
      "\n",
      "\u001b[1m> Finished chain.\u001b[0m\n"
     ]
    },
    {
     "data": {
      "text/plain": [
       "'The 2019 ICC Cricket World Cup was the 12th edition of the tournament, hosted by England and Wales, with England winning their first title.'"
      ]
     },
     "execution_count": 152,
     "metadata": {},
     "output_type": "execute_result"
    }
   ],
   "source": [
    "agent.run(\"can you tell me about this recent cricket worlcup?\")"
   ]
  },
  {
   "cell_type": "code",
   "execution_count": 153,
   "id": "48f7556b-adeb-446d-8fc2-d8bba1a0ca48",
   "metadata": {},
   "outputs": [
    {
     "name": "stdout",
     "output_type": "stream",
     "text": [
      "\n",
      "\n",
      "\u001b[1m> Entering new AgentExecutor chain...\u001b[0m\n",
      "\u001b[32;1m\u001b[1;3myou should look up the current GDP of the USA\n",
      "Action: wikipedia\n",
      "Action Input: USA GDP\u001b[0m\n",
      "Observation: \u001b[36;1m\u001b[1;3mPage: Economy of the United States\n",
      "Summary: The United States is a highly developed/advanced mixed economy. It is the world's largest economy by nominal GDP; it is also the second largest by purchasing power parity (PPP), behind China. It has the world's sixth highest per capita GDP (nominal) and the eighth highest per capita GDP (PPP) as of 2024. The U.S. accounted for 26% of the global economy in 2023 in nominal terms, and about 15.5% in PPP terms. The U.S. dollar is the currency of record most used in international transactions and is the world's reserve currency, backed by a large U.S. treasuries market, its role as the reference standard for the petrodollar system, and its linked eurodollar. Several countries use it as their official currency and in others it is the de facto currency. Since the end of World War II, the economy has achieved relatively steady growth, low unemployment and inflation, and rapid advances in technology. \n",
      "The American economy is fueled by high productivity, well developed transportation infrastructure, and extensive natural resources. Americans have the highest average household and employee income among OECD member states. In 2021, they had the highest median household income. The U.S. has one of the world's highest income inequalities among the developed countries. The largest U.S. trading partners are Canada, Mexico, China, Japan, Germany, South Korea, the United Kingdom, Taiwan, India, and Vietnam. The U.S. is the world's largest importer and second largest exporter. It has free trade agreements with several countries, including Canada and Mexico (through the USMCA), Australia, South Korea, Israel, and several others that are in effect or under negotiation. U.S. has a highly flexible labor market, where the industry adheres to a hire-and-fire policy, and job security is relatively low. Among OECD nations, the U.S. has a highly efficient and strong social security system; social expenditure stood at roughly 30% of GDP.  \n",
      "By 1890, the United States had overtaken the British Empire as the world's most productive economy. It is the world's largest producer of petroleum and natural gas. In 2016, it was the world's largest trading country and second largest manufacturer, with American manufacturing making up a fifth of the global total. The U.S. not only has the largest internal market for goods, but also dominates the services trade. Total U.S. trade was $4.2 trillion in 2018. Of the world's 500 largest companies, 121 are headquartered in the U.S. The U.S. has the world's highest number of billionaires, with total wealth of $3.0 trillion. U.S. commercial banks had $22.9 trillion in assets in December 2022. U.S. global assets under management had more than $30 trillion in assets. During the Great Recession of 2008, the U.S. economy suffered a significant decline. The American Reinvestment and Recovery Act was enacted by the United States Congress, and in the ensuing years the U.S. experienced the longest economic expansion on record by July 2019.\n",
      "The New York Stock Exchange and Nasdaq are the world's largest stock exchanges by market capitalization and trade volume. The U.S. has the world's largest gold reserve, with over 8,000 tonnes of gold. In 2014, the U.S. economy was ranked first in international ranking on venture capital and global research and development funding. The U.S. spends around 3.46% of GDP on cutting-edge research and development across various sectors of the economy. The U.S. has produced the world's highest number of Nobel laureates in the economics field. It is also the world's fourth largest high-technology exporter. The U.S. ranks second in the world by number of patent applications. Consumer spending comprised 68% of the U.S. economy in 2022, while its labor share of income was 44% in 2021. The U.S. has the world's largest consumer market. The nation's labor market has attracted immigrants from all over the world and its net migration rate is among the highest in the world.\u001b[0m\n",
      "Thought:\u001b[32;1m\u001b[1;3mI now know the final answer\n",
      "Final Answer: The current GDP of the USA is the world's largest by nominal GDP, and the second largest by purchasing power parity as of 2024.\u001b[0m\n",
      "\n",
      "\u001b[1m> Finished chain.\u001b[0m\n"
     ]
    },
    {
     "data": {
      "text/plain": [
       "\"The current GDP of the USA is the world's largest by nominal GDP, and the second largest by purchasing power parity as of 2024.\""
      ]
     },
     "execution_count": 153,
     "metadata": {},
     "output_type": "execute_result"
    }
   ],
   "source": [
    "agent.run(\"can you tell me what is current GDP of usa\")"
   ]
  },
  {
   "cell_type": "markdown",
   "id": "be76f9e1-5722-48c7-82cd-d2d1e3d020b7",
   "metadata": {},
   "source": [
    "#Chain"
   ]
  },
  {
   "cell_type": "code",
   "execution_count": 154,
   "id": "9926bc43-a731-46c2-846a-0ad3c686ba43",
   "metadata": {},
   "outputs": [],
   "source": [
    "from langchain.prompts import PromptTemplate"
   ]
  },
  {
   "cell_type": "code",
   "execution_count": 160,
   "id": "2f30130e-4237-44cd-88e7-d0d607d34100",
   "metadata": {},
   "outputs": [],
   "source": [
    "prompt = PromptTemplate.from_template(\"what is a good name for a company that makes {product}\")"
   ]
  },
  {
   "cell_type": "code",
   "execution_count": 161,
   "id": "a9510d0f-7058-434d-858f-f8227bbf7d1c",
   "metadata": {},
   "outputs": [],
   "source": [
    "#import chain\n",
    "from langchain.chains import LLMChain"
   ]
  },
  {
   "cell_type": "code",
   "execution_count": 162,
   "id": "271e7305-a4ec-4eb7-8231-f1c6d1380741",
   "metadata": {},
   "outputs": [],
   "source": [
    "chain = LLMChain(llm=client, prompt=prompt)"
   ]
  },
  {
   "cell_type": "code",
   "execution_count": 165,
   "id": "ca202ff8-ac25-4b80-a243-46975a9a09ad",
   "metadata": {},
   "outputs": [
    {
     "data": {
      "text/plain": [
       "'\"SpiruVital\"'"
      ]
     },
     "execution_count": 165,
     "metadata": {},
     "output_type": "execute_result"
    }
   ],
   "source": [
    "chain.run(\"spirulina\").strip()"
   ]
  },
  {
   "cell_type": "code",
   "execution_count": 166,
   "id": "c70324d2-9778-499f-a2e8-2e443c83ca43",
   "metadata": {},
   "outputs": [],
   "source": [
    "#Example 2"
   ]
  },
  {
   "cell_type": "code",
   "execution_count": 167,
   "id": "83101555-3bf9-4ef6-83e5-c26c47483a97",
   "metadata": {},
   "outputs": [],
   "source": [
    "prompt_template_name = PromptTemplate(\n",
    "    input_variables=[\"cuisine\"],\n",
    "    template=\"i want to open a restaurent for {cuisine} food, suggest a fency name for this\"\n",
    ")"
   ]
  },
  {
   "cell_type": "code",
   "execution_count": 168,
   "id": "a1fc7ebc-e071-484a-94f5-14b511193ec7",
   "metadata": {},
   "outputs": [],
   "source": [
    "chain = LLMChain(llm=client, prompt=prompt_template_name)"
   ]
  },
  {
   "cell_type": "code",
   "execution_count": 169,
   "id": "cb611610-e93f-41d1-8c86-9a55686417cb",
   "metadata": {},
   "outputs": [
    {
     "data": {
      "text/plain": [
       "'\"Dragon Dynasty Dining\"'"
      ]
     },
     "execution_count": 169,
     "metadata": {},
     "output_type": "execute_result"
    }
   ],
   "source": [
    "chain.run(\"chinese\")"
   ]
  },
  {
   "cell_type": "code",
   "execution_count": 170,
   "id": "d75bfca6-e2ed-4972-885d-59cf69f51972",
   "metadata": {},
   "outputs": [],
   "source": [
    "chain = LLMChain(llm=client, prompt=prompt_template_name, verbose=True)"
   ]
  },
  {
   "cell_type": "code",
   "execution_count": 171,
   "id": "fd214f59-e444-47e4-91e0-d4d453dcf5b1",
   "metadata": {},
   "outputs": [
    {
     "name": "stdout",
     "output_type": "stream",
     "text": [
      "\n",
      "\n",
      "\u001b[1m> Entering new LLMChain chain...\u001b[0m\n",
      "Prompt after formatting:\n",
      "\u001b[32;1m\u001b[1;3mi want to open a restaurent for Indian food, suggest a fency name for this\u001b[0m\n",
      "\n",
      "\u001b[1m> Finished chain.\u001b[0m\n"
     ]
    },
    {
     "data": {
      "text/plain": [
       "'\"Spice Palace\"'"
      ]
     },
     "execution_count": 171,
     "metadata": {},
     "output_type": "execute_result"
    }
   ],
   "source": [
    "chain.run(\"Indian\")"
   ]
  },
  {
   "cell_type": "markdown",
   "id": "39a789d5-c1d6-4cb7-ab85-36f120a58d11",
   "metadata": {},
   "source": [
    "# Example for connecting multiple chain in simple sequance"
   ]
  },
  {
   "cell_type": "code",
   "execution_count": 173,
   "id": "2c385c8c-9c98-4afb-b902-8eca8565b42b",
   "metadata": {},
   "outputs": [],
   "source": [
    "seq_prompt_template_name = PromptTemplate(\n",
    "    input_variables=[\"startup_name\"],\n",
    "    template=\"i want to start a startup for {startup_name}, suggest me a good name for this\"\n",
    ")"
   ]
  },
  {
   "cell_type": "code",
   "execution_count": 174,
   "id": "2f4fa81e-a8f4-4a4a-9ccc-3f5c9d70af66",
   "metadata": {},
   "outputs": [],
   "source": [
    "name_chain = LLMChain(llm=client, prompt=seq_prompt_template_name, verbose=True)"
   ]
  },
  {
   "cell_type": "code",
   "execution_count": 175,
   "id": "c2a12825-0983-4955-b25e-59af1e1e098c",
   "metadata": {},
   "outputs": [],
   "source": [
    "strategies_prompt_template_name = PromptTemplate(\n",
    "    input_variables=[\"name\"],\n",
    "    template=\"suggest some strategies for {name}\"\n",
    ")"
   ]
  },
  {
   "cell_type": "code",
   "execution_count": 176,
   "id": "97dd7773-fe86-440d-8aca-0a24a8653f94",
   "metadata": {},
   "outputs": [],
   "source": [
    "strategies_chain = LLMChain(llm=client, prompt=strategies_prompt_template_name, verbose=True)"
   ]
  },
  {
   "cell_type": "code",
   "execution_count": 177,
   "id": "c32b2a0f-36c4-45b5-af90-12a5389a3660",
   "metadata": {},
   "outputs": [],
   "source": [
    "from langchain.chains import SimpleSequentialChain"
   ]
  },
  {
   "cell_type": "code",
   "execution_count": 178,
   "id": "2e6477d0-02a1-4656-9229-46718f1d08fd",
   "metadata": {},
   "outputs": [],
   "source": [
    "chain = SimpleSequentialChain(chains=[name_chain, strategies_chain])"
   ]
  },
  {
   "cell_type": "code",
   "execution_count": 179,
   "id": "21e2e0be-ba8b-4463-a872-4bd73ecc1696",
   "metadata": {},
   "outputs": [
    {
     "name": "stdout",
     "output_type": "stream",
     "text": [
      "\n",
      "\n",
      "\u001b[1m> Entering new LLMChain chain...\u001b[0m\n",
      "Prompt after formatting:\n",
      "\u001b[32;1m\u001b[1;3mi want to start a startup for artificial intelegence, suggest me a good name for this\u001b[0m\n",
      "\n",
      "\u001b[1m> Finished chain.\u001b[0m\n",
      "\n",
      "\n",
      "\u001b[1m> Entering new LLMChain chain...\u001b[0m\n",
      "Prompt after formatting:\n",
      "\u001b[32;1m\u001b[1;3msuggest some strategies for \"IntelliGenius\"\u001b[0m\n",
      "\n",
      "\u001b[1m> Finished chain.\u001b[0m\n"
     ]
    },
    {
     "data": {
      "text/plain": [
       "'1. Invest in research and development to continuously improve and innovate the product or service.\\n\\n2. Build strong partnerships and collaborations with industry experts and thought leaders to stay ahead of the competition.\\n\\n3. Implement a comprehensive marketing and advertising strategy to increase brand awareness and attract more customers.\\n\\n4. Provide exceptional customer service to build customer loyalty and retention.\\n\\n5. Offer competitive pricing and promotions to attract new customers and retain existing ones.\\n\\n6. Utilize data analytics and business intelligence tools to gain insights and make informed decisions.\\n\\n7. Stay abreast of industry trends and emerging technologies to remain relevant and competitive in the market.\\n\\n8. Develop a strong online presence through social media and digital marketing to reach a wider audience.\\n\\n9. Offer training and development programs for employees to enhance their skills and knowledge.\\n\\n10. Continuously monitor and evaluate the performance of the business to identify areas for improvement and implement necessary changes.'"
      ]
     },
     "execution_count": 179,
     "metadata": {},
     "output_type": "execute_result"
    }
   ],
   "source": [
    "chain.run(\"artificial intelegence\")"
   ]
  },
  {
   "cell_type": "markdown",
   "id": "9805565b-3744-40e2-a787-24d0474b80eb",
   "metadata": {},
   "source": [
    "# Sequential chain"
   ]
  },
  {
   "cell_type": "code",
   "execution_count": 193,
   "id": "252a64cd-9f4e-4d53-82cf-15bae20b3a4e",
   "metadata": {},
   "outputs": [],
   "source": [
    "prompt_template_name = PromptTemplate(\n",
    "    input_variables=[\"cuisine\"],\n",
    "    template=\"i want to open a vegetarian restaurent for {cuisine} food, suggest a fency name for this\"\n",
    ")\n",
    "name_chain = LLMChain(llm=client, prompt=prompt_template_name, output_key=\"restaurant_name\")"
   ]
  },
  {
   "cell_type": "code",
   "execution_count": 194,
   "id": "f6930793-46ce-43b0-b200-7ffee7d826e4",
   "metadata": {},
   "outputs": [],
   "source": [
    "items_prompt_template_name = PromptTemplate(\n",
    "    input_variables=[\"restaurant_name\"],\n",
    "    template=\"suggest some menu items for {restaurant_name}\"\n",
    ")\n",
    "food_items_chain = LLMChain(llm=client, prompt=items_prompt_template_name, output_key=\"menu_items\")"
   ]
  },
  {
   "cell_type": "code",
   "execution_count": 195,
   "id": "71210e32-3f8c-469a-a45f-8474392d8544",
   "metadata": {},
   "outputs": [],
   "source": [
    "from langchain.chains import SequentialChain"
   ]
  },
  {
   "cell_type": "code",
   "execution_count": 196,
   "id": "0a4acdfb-c59d-4e3e-bd58-004cf0d16057",
   "metadata": {},
   "outputs": [],
   "source": [
    "chain = SequentialChain(\n",
    "    chains=[name_chain, food_items_chain],\n",
    "    input_variables=[\"cuisine\"],\n",
    "    output_variables=[\"restaurant_name\",\"menu_items\"]\n",
    ")"
   ]
  },
  {
   "cell_type": "code",
   "execution_count": 197,
   "id": "5c795484-57ba-40f6-be8e-90fdf84a9fb9",
   "metadata": {},
   "outputs": [
    {
     "data": {
      "text/plain": [
       "{'cuisine': 'indian',\n",
       " 'restaurant_name': '\"Saffron Spice Garden\"',\n",
       " 'menu_items': '1. Saffron-infused Lamb Curry\\n2. Tandoori Chicken Skewers\\n3. Vegetable Biryani\\n4. Paneer Tikka Masala\\n5. Palak Paneer\\n6. Lamb Korma\\n7. Butter Chicken\\n8. Aloo Gobi\\n9. Naan Bread\\n10. Mango Lassi'}"
      ]
     },
     "execution_count": 197,
     "metadata": {},
     "output_type": "execute_result"
    }
   ],
   "source": [
    "chain({\"cuisine\":\"indian\"})"
   ]
  },
  {
   "cell_type": "markdown",
   "id": "5e5e9ddf-fd93-47ab-ba69-a7301891a9d9",
   "metadata": {},
   "source": [
    "# Document Loaded"
   ]
  },
  {
   "cell_type": "code",
   "execution_count": 199,
   "id": "61154e7c-4d9e-4509-a0ec-069c3a22fdd0",
   "metadata": {},
   "outputs": [],
   "source": [
    "from langchain_community.document_loaders import PyPDFLoader"
   ]
  },
  {
   "cell_type": "code",
   "execution_count": 201,
   "id": "46207103-531c-441f-8cf4-598f76235520",
   "metadata": {},
   "outputs": [],
   "source": [
    "loader = PyPDFLoader(r\"C:\\Users\\Vikas\\Downloads\\Get_Started_With_Smallpdf.pdf\")\n",
    "pages = loader.load_and_split()"
   ]
  },
  {
   "cell_type": "code",
   "execution_count": 202,
   "id": "9cdba194-b722-40c8-abf5-0f405032fb95",
   "metadata": {},
   "outputs": [
    {
     "data": {
      "text/plain": [
       "[Document(page_content='Welcome to Smallpdf\\nDigital Documents—All In One Place\\nAccess Files Anytime, Anywhere Enhance Documents in One Click \\nCollaborate With Others With the new Smallpdf experience, you can \\nfreely upload, organize, and share digital \\ndocuments. When you enable the ‘Storage’ \\noption, we’ll also store all processed files here. \\nYou can access files stored on Smallpdf from \\nyour computer, phone, or tablet. We’ll also \\nsync files from the Smallpdf Mobile App to our \\nonline portalWhen you right-click on a file, we’ll present \\nyou with an array of options to convert, \\ncompress, or modify it. \\nForget mundane administrative tasks. With \\nSmallpdf, you can request e-signatures, send \\nlarge files, or even enable the Smallpdf G Suite \\nApp for your entire organization. Ready to take document management to the next level?', metadata={'source': 'C:\\\\Users\\\\Vikas\\\\Downloads\\\\Get_Started_With_Smallpdf.pdf', 'page': 0})]"
      ]
     },
     "execution_count": 202,
     "metadata": {},
     "output_type": "execute_result"
    }
   ],
   "source": [
    "pages"
   ]
  },
  {
   "cell_type": "markdown",
   "id": "d300f2df-b904-4818-8d61-47d578bb62a2",
   "metadata": {},
   "source": [
    "# Memry"
   ]
  },
  {
   "cell_type": "code",
   "execution_count": 206,
   "id": "93a2929f-42b4-41ab-8122-4145e6376a75",
   "metadata": {},
   "outputs": [],
   "source": [
    "from langchain.prompts import PromptTemplate\n",
    "from langchain.chains import LLMChain\n",
    "from langchain_openai import ChatOpenAI"
   ]
  },
  {
   "cell_type": "code",
   "execution_count": 207,
   "id": "61307cc0-3fb7-48c3-b1ec-cbcd0fdf4c63",
   "metadata": {},
   "outputs": [],
   "source": [
    "client = ChatOpenAI(api_key=myKey)"
   ]
  },
  {
   "cell_type": "code",
   "execution_count": 208,
   "id": "4cf50841-5661-44f8-aad6-32275d270432",
   "metadata": {},
   "outputs": [],
   "source": [
    "prompt_template_name = PromptTemplate(\n",
    "    input_variables=[\"product\"],\n",
    "    template=\"what is a good name for a company that makes {product}?\"\n",
    ")"
   ]
  },
  {
   "cell_type": "code",
   "execution_count": 209,
   "id": "02fdc485-b49a-4a5e-817d-0243bba4c3f5",
   "metadata": {},
   "outputs": [],
   "source": [
    "chain = LLMChain(llm=client, prompt=prompt_template_name)"
   ]
  },
  {
   "cell_type": "code",
   "execution_count": 210,
   "id": "8ce097a0-2fc8-43ff-968c-2ba9c6919c63",
   "metadata": {},
   "outputs": [
    {
     "data": {
      "text/plain": [
       "'Rainbow Cup Creations'"
      ]
     },
     "execution_count": 210,
     "metadata": {},
     "output_type": "execute_result"
    }
   ],
   "source": [
    "chain.run(\"colorful cup\")"
   ]
  },
  {
   "cell_type": "code",
   "execution_count": 211,
   "id": "7b2698d0-aff8-4326-a7f2-03fecbc935bc",
   "metadata": {},
   "outputs": [],
   "source": [
    "prompt_template_name = PromptTemplate(\n",
    "    input_variables=[\"product\"],\n",
    "    template=\"what is a good name for a company that makes {product}?\"\n",
    ")"
   ]
  },
  {
   "cell_type": "code",
   "execution_count": 212,
   "id": "dbd53fe7-7505-4f51-82df-d1863382d430",
   "metadata": {},
   "outputs": [],
   "source": [
    "chain = LLMChain(llm=client, prompt=prompt_template_name)"
   ]
  },
  {
   "cell_type": "code",
   "execution_count": 213,
   "id": "170be399-ba8c-4339-8ff3-a5b36f0ce626",
   "metadata": {},
   "outputs": [
    {
     "data": {
      "text/plain": [
       "'SkyTech Innovations'"
      ]
     },
     "execution_count": 213,
     "metadata": {},
     "output_type": "execute_result"
    }
   ],
   "source": [
    "chain.run(\"drons\")"
   ]
  },
  {
   "cell_type": "code",
   "execution_count": 214,
   "id": "cd78cc25-ff45-413d-aa1b-c581db4f784e",
   "metadata": {},
   "outputs": [],
   "source": [
    "chain.memory"
   ]
  },
  {
   "cell_type": "code",
   "execution_count": 215,
   "id": "dfc7d2e3-f58d-4d97-8258-2096391d2c51",
   "metadata": {},
   "outputs": [
    {
     "data": {
      "text/plain": [
       "NoneType"
      ]
     },
     "execution_count": 215,
     "metadata": {},
     "output_type": "execute_result"
    }
   ],
   "source": [
    "type(chain.memory)"
   ]
  },
  {
   "cell_type": "markdown",
   "id": "d8f346e5-8dc7-4678-9adb-628656360c99",
   "metadata": {},
   "source": [
    "# conversationBufferMemory"
   ]
  },
  {
   "cell_type": "code",
   "execution_count": 216,
   "id": "116c417d-eaac-4b19-829e-b9050dc0b343",
   "metadata": {},
   "outputs": [],
   "source": [
    "from langchain.memory import ConversationBufferMemory"
   ]
  },
  {
   "cell_type": "code",
   "execution_count": 217,
   "id": "839f556c-ce30-4c03-bfcf-d1a74e5150b1",
   "metadata": {},
   "outputs": [],
   "source": [
    "memory = ConversationBufferMemory()"
   ]
  },
  {
   "cell_type": "code",
   "execution_count": 218,
   "id": "55cbb5ad-6f97-4239-bbe8-1b53caacb314",
   "metadata": {},
   "outputs": [],
   "source": [
    "prompt_template_name = PromptTemplate(\n",
    "    input_variables=[\"product\"],\n",
    "    template=\"what is a good name for a company that makes {product}?\"\n",
    ")"
   ]
  },
  {
   "cell_type": "code",
   "execution_count": 220,
   "id": "f7ed1f8b-0d1d-41c1-af06-b2fd9f733367",
   "metadata": {},
   "outputs": [],
   "source": [
    "chain = LLMChain(llm=client, prompt=prompt_template_name, memory=memory)"
   ]
  },
  {
   "cell_type": "code",
   "execution_count": 221,
   "id": "41d340f0-860f-45b1-a35e-b64f04980af2",
   "metadata": {},
   "outputs": [
    {
     "data": {
      "text/plain": [
       "'VineCraft Winery'"
      ]
     },
     "execution_count": 221,
     "metadata": {},
     "output_type": "execute_result"
    }
   ],
   "source": [
    "chain.run(\"wines\")"
   ]
  },
  {
   "cell_type": "code",
   "execution_count": 222,
   "id": "499cbee0-df30-4ff5-8cae-84c84edaf295",
   "metadata": {},
   "outputs": [
    {
     "data": {
      "text/plain": [
       "'1. SnapTech\\n2. LensCraft\\n3. FocusWorks\\n4. ShutterTech\\n5. CaptureVision\\n6. ProLens\\n7. OpticVision\\n8. ImageMaster\\n9. PixelPerfect\\n10. CameraCrafters'"
      ]
     },
     "execution_count": 222,
     "metadata": {},
     "output_type": "execute_result"
    }
   ],
   "source": [
    "chain.run(\"camera\")"
   ]
  },
  {
   "cell_type": "code",
   "execution_count": 223,
   "id": "b67650f6-151d-479c-916d-f7ecc253b0bc",
   "metadata": {},
   "outputs": [
    {
     "data": {
      "text/plain": [
       "'SkyTech Innovations'"
      ]
     },
     "execution_count": 223,
     "metadata": {},
     "output_type": "execute_result"
    }
   ],
   "source": [
    "chain.run(\"Drons\")"
   ]
  },
  {
   "cell_type": "code",
   "execution_count": 224,
   "id": "04d6d03c-39ca-4514-8ad2-dae1605322d0",
   "metadata": {},
   "outputs": [
    {
     "data": {
      "text/plain": [
       "ConversationBufferMemory(chat_memory=InMemoryChatMessageHistory(messages=[HumanMessage(content='wines'), AIMessage(content='VineCraft Winery'), HumanMessage(content='camera'), AIMessage(content='1. SnapTech\\n2. LensCraft\\n3. FocusWorks\\n4. ShutterTech\\n5. CaptureVision\\n6. ProLens\\n7. OpticVision\\n8. ImageMaster\\n9. PixelPerfect\\n10. CameraCrafters'), HumanMessage(content='Drons'), AIMessage(content='SkyTech Innovations')]))"
      ]
     },
     "execution_count": 224,
     "metadata": {},
     "output_type": "execute_result"
    }
   ],
   "source": [
    "chain.memory"
   ]
  },
  {
   "cell_type": "code",
   "execution_count": 226,
   "id": "e00e7076-7b1f-49bb-8cfa-d1116b5ce0bf",
   "metadata": {},
   "outputs": [
    {
     "name": "stdout",
     "output_type": "stream",
     "text": [
      "Human: wines\n",
      "AI: VineCraft Winery\n",
      "Human: camera\n",
      "AI: 1. SnapTech\n",
      "2. LensCraft\n",
      "3. FocusWorks\n",
      "4. ShutterTech\n",
      "5. CaptureVision\n",
      "6. ProLens\n",
      "7. OpticVision\n",
      "8. ImageMaster\n",
      "9. PixelPerfect\n",
      "10. CameraCrafters\n",
      "Human: Drons\n",
      "AI: SkyTech Innovations\n"
     ]
    }
   ],
   "source": [
    "print(chain.memory.buffer)"
   ]
  },
  {
   "cell_type": "markdown",
   "id": "ee481d17-d9c7-43e5-80da-9c1036495005",
   "metadata": {},
   "source": [
    "# ConversationChain"
   ]
  },
  {
   "cell_type": "code",
   "execution_count": 227,
   "id": "31d06d68-16db-47ba-99b2-ee9e40394b3c",
   "metadata": {},
   "outputs": [],
   "source": [
    "from langchain.chains import ConversationChain"
   ]
  },
  {
   "cell_type": "code",
   "execution_count": 228,
   "id": "b7a08dc2-080b-4723-9c33-3ae08d976227",
   "metadata": {},
   "outputs": [],
   "source": [
    "convo_client = ChatOpenAI(api_key=myKey, temperature=0.7)\n",
    "convo = ConversationChain(llm=convo_client)"
   ]
  },
  {
   "cell_type": "code",
   "execution_count": 229,
   "id": "112780bf-7e78-46f2-95af-992f1562bf06",
   "metadata": {},
   "outputs": [
    {
     "data": {
      "text/plain": [
       "PromptTemplate(input_variables=['history', 'input'], template='The following is a friendly conversation between a human and an AI. The AI is talkative and provides lots of specific details from its context. If the AI does not know the answer to a question, it truthfully says it does not know.\\n\\nCurrent conversation:\\n{history}\\nHuman: {input}\\nAI:')"
      ]
     },
     "execution_count": 229,
     "metadata": {},
     "output_type": "execute_result"
    }
   ],
   "source": [
    "convo.prompt"
   ]
  },
  {
   "cell_type": "code",
   "execution_count": 230,
   "id": "0ecbc1db-088d-4290-8601-e78d351174d5",
   "metadata": {},
   "outputs": [
    {
     "data": {
      "text/plain": [
       "'The following is a friendly conversation between a human and an AI. The AI is talkative and provides lots of specific details from its context. If the AI does not know the answer to a question, it truthfully says it does not know.\\n\\nCurrent conversation:\\n{history}\\nHuman: {input}\\nAI:'"
      ]
     },
     "execution_count": 230,
     "metadata": {},
     "output_type": "execute_result"
    }
   ],
   "source": [
    "convo.prompt.template"
   ]
  },
  {
   "cell_type": "code",
   "execution_count": 231,
   "id": "58922ba4-843f-481e-8283-1c3c272b93ce",
   "metadata": {},
   "outputs": [
    {
     "data": {
      "text/plain": [
       "'The first recorded organized indoor ice hockey game took place on March 3, 1875, in Montreal, Canada. The teams were the McGill University Hockey Club and the Victoria Skating Club, with McGill winning the match by a score of 2-1. So, the McGill University Hockey Club won the first hockey match in recorded history.'"
      ]
     },
     "execution_count": 231,
     "metadata": {},
     "output_type": "execute_result"
    }
   ],
   "source": [
    "convo.run(\"who won first hockey match?\")"
   ]
  },
  {
   "cell_type": "code",
   "execution_count": 232,
   "id": "4c216e22-2e4f-4286-b769-d773aaa505a6",
   "metadata": {},
   "outputs": [
    {
     "data": {
      "text/plain": [
       "'Of course! 5 + 5 equals 10.'"
      ]
     },
     "execution_count": 232,
     "metadata": {},
     "output_type": "execute_result"
    }
   ],
   "source": [
    "convo.run(\"can you tell me how much 5+5?\")"
   ]
  },
  {
   "cell_type": "code",
   "execution_count": 233,
   "id": "4ab9115f-8510-4b41-a8e2-ac8d875b755f",
   "metadata": {},
   "outputs": [
    {
     "data": {
      "text/plain": [
       "'Sure! 5 + (5 * 15) equals 80.'"
      ]
     },
     "execution_count": 233,
     "metadata": {},
     "output_type": "execute_result"
    }
   ],
   "source": [
    "convo.run(\"can you tell me how much 5+(5*15)?\")"
   ]
  },
  {
   "cell_type": "code",
   "execution_count": 234,
   "id": "9580a14a-c6f5-413e-a99a-595ee702641f",
   "metadata": {},
   "outputs": [
    {
     "data": {
      "text/plain": [
       "\"I'm sorry, but I do not have that specific information about the captain of the McGill University Hockey Club during the first recorded organized indoor ice hockey game in 1875.\""
      ]
     },
     "execution_count": 234,
     "metadata": {},
     "output_type": "execute_result"
    }
   ],
   "source": [
    "convo.run(\"who was the captain of winning team?\")"
   ]
  },
  {
   "cell_type": "code",
   "execution_count": 235,
   "id": "6da8bab8-e3a1-4db0-80dc-efaef9a9a02b",
   "metadata": {},
   "outputs": [
    {
     "data": {
      "text/plain": [
       "'Sure! If we divide the number by 2, the final result would be 40.'"
      ]
     },
     "execution_count": 235,
     "metadata": {},
     "output_type": "execute_result"
    }
   ],
   "source": [
    "convo.run(\"can you divide the numver by 2 and give me a final result?\")"
   ]
  },
  {
   "cell_type": "markdown",
   "id": "a2b8c545-8dc5-4702-8201-f52c4d100684",
   "metadata": {},
   "source": [
    "# ConversationBufferWindowMemory"
   ]
  },
  {
   "cell_type": "code",
   "execution_count": 236,
   "id": "bc4a6f9a-3633-4600-a666-ac75620c72e5",
   "metadata": {},
   "outputs": [],
   "source": [
    "from langchain.memory import ConversationBufferWindowMemory"
   ]
  },
  {
   "cell_type": "code",
   "execution_count": 237,
   "id": "fa810fc0-5b03-4f62-aebd-552449d39d87",
   "metadata": {},
   "outputs": [],
   "source": [
    "memory = ConversationBufferWindowMemory(k=1)"
   ]
  },
  {
   "cell_type": "code",
   "execution_count": 238,
   "id": "e5689800-d60c-4731-9f41-dc9b54f3e4a0",
   "metadata": {},
   "outputs": [],
   "source": [
    "convo = ConversationChain(llm=convo_client, memory=memory)"
   ]
  },
  {
   "cell_type": "code",
   "execution_count": 239,
   "id": "875cf658-86b2-4d33-a620-a7ee5cc16fc6",
   "metadata": {},
   "outputs": [
    {
     "data": {
      "text/plain": [
       "'The first official cricket match was played in 1877 between Australia and England at the Melbourne Cricket Ground. England won the match by 45 runs.'"
      ]
     },
     "execution_count": 239,
     "metadata": {},
     "output_type": "execute_result"
    }
   ],
   "source": [
    "convo.run(\"who won first cricket match?\")"
   ]
  },
  {
   "cell_type": "code",
   "execution_count": 240,
   "id": "aafe603b-53f5-4894-a879-1d6cb9820d51",
   "metadata": {},
   "outputs": [
    {
     "data": {
      "text/plain": [
       "'5 + 5 equals 10.'"
      ]
     },
     "execution_count": 240,
     "metadata": {},
     "output_type": "execute_result"
    }
   ],
   "source": [
    "convo.run(\"can you tell me how much 5+5?\")"
   ]
  },
  {
   "cell_type": "code",
   "execution_count": 241,
   "id": "64fa8123-f40e-4429-b23b-4681ad0da277",
   "metadata": {},
   "outputs": [
    {
     "data": {
      "text/plain": [
       "\"I'm sorry, I do not have that information.\""
      ]
     },
     "execution_count": 241,
     "metadata": {},
     "output_type": "execute_result"
    }
   ],
   "source": [
    "convo.run(\"who was the captain of winning team?\")"
   ]
  },
  {
   "cell_type": "code",
   "execution_count": null,
   "id": "a0e93731-3ac1-4a99-a873-b5a4e5fe1923",
   "metadata": {},
   "outputs": [],
   "source": []
  }
 ],
 "metadata": {
  "kernelspec": {
   "display_name": "Python 3 (ipykernel)",
   "language": "python",
   "name": "python3"
  },
  "language_info": {
   "codemirror_mode": {
    "name": "ipython",
    "version": 3
   },
   "file_extension": ".py",
   "mimetype": "text/x-python",
   "name": "python",
   "nbconvert_exporter": "python",
   "pygments_lexer": "ipython3",
   "version": "3.11.9"
  }
 },
 "nbformat": 4,
 "nbformat_minor": 5
}
